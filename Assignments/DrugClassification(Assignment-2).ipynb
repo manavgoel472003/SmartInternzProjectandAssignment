{
  "nbformat": 4,
  "nbformat_minor": 0,
  "metadata": {
    "colab": {
      "provenance": []
    },
    "kernelspec": {
      "name": "python3",
      "display_name": "Python 3"
    },
    "language_info": {
      "name": "python"
    }
  },
  "cells": [
    {
      "cell_type": "code",
      "execution_count": 1,
      "metadata": {
        "id": "7StyHr4lcblr"
      },
      "outputs": [],
      "source": [
        "import pandas as pd\n",
        "import numpy as np\n",
        "import matplotlib.pyplot as plt\n",
        "import seaborn as sns"
      ]
    },
    {
      "cell_type": "code",
      "source": [
        "df = pd.read_csv(\"/content/drive/MyDrive/Colab Notebooks/drug200.csv\")\n",
        "df.head(10)"
      ],
      "metadata": {
        "colab": {
          "base_uri": "https://localhost:8080/",
          "height": 359
        },
        "id": "uTgDoZCwc_vu",
        "outputId": "ca98fb06-c495-4e23-96b7-d579cadfec8d"
      },
      "execution_count": 2,
      "outputs": [
        {
          "output_type": "execute_result",
          "data": {
            "text/plain": [
              "   Age Sex      BP Cholesterol  Na_to_K   Drug\n",
              "0   23   F    HIGH        HIGH   25.355  DrugY\n",
              "1   47   M     LOW        HIGH   13.093  drugC\n",
              "2   47   M     LOW        HIGH   10.114  drugC\n",
              "3   28   F  NORMAL        HIGH    7.798  drugX\n",
              "4   61   F     LOW        HIGH   18.043  DrugY\n",
              "5   22   F  NORMAL        HIGH    8.607  drugX\n",
              "6   49   F  NORMAL        HIGH   16.275  DrugY\n",
              "7   41   M     LOW        HIGH   11.037  drugC\n",
              "8   60   M  NORMAL        HIGH   15.171  DrugY\n",
              "9   43   M     LOW      NORMAL   19.368  DrugY"
            ],
            "text/html": [
              "\n",
              "  <div id=\"df-aded947c-757c-4e39-8a42-4a7bc4b9b0b0\">\n",
              "    <div class=\"colab-df-container\">\n",
              "      <div>\n",
              "<style scoped>\n",
              "    .dataframe tbody tr th:only-of-type {\n",
              "        vertical-align: middle;\n",
              "    }\n",
              "\n",
              "    .dataframe tbody tr th {\n",
              "        vertical-align: top;\n",
              "    }\n",
              "\n",
              "    .dataframe thead th {\n",
              "        text-align: right;\n",
              "    }\n",
              "</style>\n",
              "<table border=\"1\" class=\"dataframe\">\n",
              "  <thead>\n",
              "    <tr style=\"text-align: right;\">\n",
              "      <th></th>\n",
              "      <th>Age</th>\n",
              "      <th>Sex</th>\n",
              "      <th>BP</th>\n",
              "      <th>Cholesterol</th>\n",
              "      <th>Na_to_K</th>\n",
              "      <th>Drug</th>\n",
              "    </tr>\n",
              "  </thead>\n",
              "  <tbody>\n",
              "    <tr>\n",
              "      <th>0</th>\n",
              "      <td>23</td>\n",
              "      <td>F</td>\n",
              "      <td>HIGH</td>\n",
              "      <td>HIGH</td>\n",
              "      <td>25.355</td>\n",
              "      <td>DrugY</td>\n",
              "    </tr>\n",
              "    <tr>\n",
              "      <th>1</th>\n",
              "      <td>47</td>\n",
              "      <td>M</td>\n",
              "      <td>LOW</td>\n",
              "      <td>HIGH</td>\n",
              "      <td>13.093</td>\n",
              "      <td>drugC</td>\n",
              "    </tr>\n",
              "    <tr>\n",
              "      <th>2</th>\n",
              "      <td>47</td>\n",
              "      <td>M</td>\n",
              "      <td>LOW</td>\n",
              "      <td>HIGH</td>\n",
              "      <td>10.114</td>\n",
              "      <td>drugC</td>\n",
              "    </tr>\n",
              "    <tr>\n",
              "      <th>3</th>\n",
              "      <td>28</td>\n",
              "      <td>F</td>\n",
              "      <td>NORMAL</td>\n",
              "      <td>HIGH</td>\n",
              "      <td>7.798</td>\n",
              "      <td>drugX</td>\n",
              "    </tr>\n",
              "    <tr>\n",
              "      <th>4</th>\n",
              "      <td>61</td>\n",
              "      <td>F</td>\n",
              "      <td>LOW</td>\n",
              "      <td>HIGH</td>\n",
              "      <td>18.043</td>\n",
              "      <td>DrugY</td>\n",
              "    </tr>\n",
              "    <tr>\n",
              "      <th>5</th>\n",
              "      <td>22</td>\n",
              "      <td>F</td>\n",
              "      <td>NORMAL</td>\n",
              "      <td>HIGH</td>\n",
              "      <td>8.607</td>\n",
              "      <td>drugX</td>\n",
              "    </tr>\n",
              "    <tr>\n",
              "      <th>6</th>\n",
              "      <td>49</td>\n",
              "      <td>F</td>\n",
              "      <td>NORMAL</td>\n",
              "      <td>HIGH</td>\n",
              "      <td>16.275</td>\n",
              "      <td>DrugY</td>\n",
              "    </tr>\n",
              "    <tr>\n",
              "      <th>7</th>\n",
              "      <td>41</td>\n",
              "      <td>M</td>\n",
              "      <td>LOW</td>\n",
              "      <td>HIGH</td>\n",
              "      <td>11.037</td>\n",
              "      <td>drugC</td>\n",
              "    </tr>\n",
              "    <tr>\n",
              "      <th>8</th>\n",
              "      <td>60</td>\n",
              "      <td>M</td>\n",
              "      <td>NORMAL</td>\n",
              "      <td>HIGH</td>\n",
              "      <td>15.171</td>\n",
              "      <td>DrugY</td>\n",
              "    </tr>\n",
              "    <tr>\n",
              "      <th>9</th>\n",
              "      <td>43</td>\n",
              "      <td>M</td>\n",
              "      <td>LOW</td>\n",
              "      <td>NORMAL</td>\n",
              "      <td>19.368</td>\n",
              "      <td>DrugY</td>\n",
              "    </tr>\n",
              "  </tbody>\n",
              "</table>\n",
              "</div>\n",
              "      <button class=\"colab-df-convert\" onclick=\"convertToInteractive('df-aded947c-757c-4e39-8a42-4a7bc4b9b0b0')\"\n",
              "              title=\"Convert this dataframe to an interactive table.\"\n",
              "              style=\"display:none;\">\n",
              "        \n",
              "  <svg xmlns=\"http://www.w3.org/2000/svg\" height=\"24px\"viewBox=\"0 0 24 24\"\n",
              "       width=\"24px\">\n",
              "    <path d=\"M0 0h24v24H0V0z\" fill=\"none\"/>\n",
              "    <path d=\"M18.56 5.44l.94 2.06.94-2.06 2.06-.94-2.06-.94-.94-2.06-.94 2.06-2.06.94zm-11 1L8.5 8.5l.94-2.06 2.06-.94-2.06-.94L8.5 2.5l-.94 2.06-2.06.94zm10 10l.94 2.06.94-2.06 2.06-.94-2.06-.94-.94-2.06-.94 2.06-2.06.94z\"/><path d=\"M17.41 7.96l-1.37-1.37c-.4-.4-.92-.59-1.43-.59-.52 0-1.04.2-1.43.59L10.3 9.45l-7.72 7.72c-.78.78-.78 2.05 0 2.83L4 21.41c.39.39.9.59 1.41.59.51 0 1.02-.2 1.41-.59l7.78-7.78 2.81-2.81c.8-.78.8-2.07 0-2.86zM5.41 20L4 18.59l7.72-7.72 1.47 1.35L5.41 20z\"/>\n",
              "  </svg>\n",
              "      </button>\n",
              "      \n",
              "  <style>\n",
              "    .colab-df-container {\n",
              "      display:flex;\n",
              "      flex-wrap:wrap;\n",
              "      gap: 12px;\n",
              "    }\n",
              "\n",
              "    .colab-df-convert {\n",
              "      background-color: #E8F0FE;\n",
              "      border: none;\n",
              "      border-radius: 50%;\n",
              "      cursor: pointer;\n",
              "      display: none;\n",
              "      fill: #1967D2;\n",
              "      height: 32px;\n",
              "      padding: 0 0 0 0;\n",
              "      width: 32px;\n",
              "    }\n",
              "\n",
              "    .colab-df-convert:hover {\n",
              "      background-color: #E2EBFA;\n",
              "      box-shadow: 0px 1px 2px rgba(60, 64, 67, 0.3), 0px 1px 3px 1px rgba(60, 64, 67, 0.15);\n",
              "      fill: #174EA6;\n",
              "    }\n",
              "\n",
              "    [theme=dark] .colab-df-convert {\n",
              "      background-color: #3B4455;\n",
              "      fill: #D2E3FC;\n",
              "    }\n",
              "\n",
              "    [theme=dark] .colab-df-convert:hover {\n",
              "      background-color: #434B5C;\n",
              "      box-shadow: 0px 1px 3px 1px rgba(0, 0, 0, 0.15);\n",
              "      filter: drop-shadow(0px 1px 2px rgba(0, 0, 0, 0.3));\n",
              "      fill: #FFFFFF;\n",
              "    }\n",
              "  </style>\n",
              "\n",
              "      <script>\n",
              "        const buttonEl =\n",
              "          document.querySelector('#df-aded947c-757c-4e39-8a42-4a7bc4b9b0b0 button.colab-df-convert');\n",
              "        buttonEl.style.display =\n",
              "          google.colab.kernel.accessAllowed ? 'block' : 'none';\n",
              "\n",
              "        async function convertToInteractive(key) {\n",
              "          const element = document.querySelector('#df-aded947c-757c-4e39-8a42-4a7bc4b9b0b0');\n",
              "          const dataTable =\n",
              "            await google.colab.kernel.invokeFunction('convertToInteractive',\n",
              "                                                     [key], {});\n",
              "          if (!dataTable) return;\n",
              "\n",
              "          const docLinkHtml = 'Like what you see? Visit the ' +\n",
              "            '<a target=\"_blank\" href=https://colab.research.google.com/notebooks/data_table.ipynb>data table notebook</a>'\n",
              "            + ' to learn more about interactive tables.';\n",
              "          element.innerHTML = '';\n",
              "          dataTable['output_type'] = 'display_data';\n",
              "          await google.colab.output.renderOutput(dataTable, element);\n",
              "          const docLink = document.createElement('div');\n",
              "          docLink.innerHTML = docLinkHtml;\n",
              "          element.appendChild(docLink);\n",
              "        }\n",
              "      </script>\n",
              "    </div>\n",
              "  </div>\n",
              "  "
            ]
          },
          "metadata": {},
          "execution_count": 2
        }
      ]
    },
    {
      "cell_type": "code",
      "source": [
        "df.isna().sum()"
      ],
      "metadata": {
        "colab": {
          "base_uri": "https://localhost:8080/"
        },
        "id": "86mGs7_NdQKB",
        "outputId": "19ba74ff-15d4-4854-fa79-6c4204a164ec"
      },
      "execution_count": 3,
      "outputs": [
        {
          "output_type": "execute_result",
          "data": {
            "text/plain": [
              "Age            0\n",
              "Sex            0\n",
              "BP             0\n",
              "Cholesterol    0\n",
              "Na_to_K        0\n",
              "Drug           0\n",
              "dtype: int64"
            ]
          },
          "metadata": {},
          "execution_count": 3
        }
      ]
    },
    {
      "cell_type": "code",
      "source": [
        "df.describe(include=\"all\")"
      ],
      "metadata": {
        "colab": {
          "base_uri": "https://localhost:8080/",
          "height": 390
        },
        "id": "7IcwfxN4hVoO",
        "outputId": "16e5374d-5957-44a7-d335-2c729c1d288b"
      },
      "execution_count": 4,
      "outputs": [
        {
          "output_type": "execute_result",
          "data": {
            "text/plain": [
              "               Age  Sex    BP Cholesterol     Na_to_K   Drug\n",
              "count   200.000000  200   200         200  200.000000    200\n",
              "unique         NaN    2     3           2         NaN      5\n",
              "top            NaN    M  HIGH        HIGH         NaN  DrugY\n",
              "freq           NaN  104    77         103         NaN     91\n",
              "mean     44.315000  NaN   NaN         NaN   16.084485    NaN\n",
              "std      16.544315  NaN   NaN         NaN    7.223956    NaN\n",
              "min      15.000000  NaN   NaN         NaN    6.269000    NaN\n",
              "25%      31.000000  NaN   NaN         NaN   10.445500    NaN\n",
              "50%      45.000000  NaN   NaN         NaN   13.936500    NaN\n",
              "75%      58.000000  NaN   NaN         NaN   19.380000    NaN\n",
              "max      74.000000  NaN   NaN         NaN   38.247000    NaN"
            ],
            "text/html": [
              "\n",
              "  <div id=\"df-a460466a-a609-44ec-8a1d-47404285da1c\">\n",
              "    <div class=\"colab-df-container\">\n",
              "      <div>\n",
              "<style scoped>\n",
              "    .dataframe tbody tr th:only-of-type {\n",
              "        vertical-align: middle;\n",
              "    }\n",
              "\n",
              "    .dataframe tbody tr th {\n",
              "        vertical-align: top;\n",
              "    }\n",
              "\n",
              "    .dataframe thead th {\n",
              "        text-align: right;\n",
              "    }\n",
              "</style>\n",
              "<table border=\"1\" class=\"dataframe\">\n",
              "  <thead>\n",
              "    <tr style=\"text-align: right;\">\n",
              "      <th></th>\n",
              "      <th>Age</th>\n",
              "      <th>Sex</th>\n",
              "      <th>BP</th>\n",
              "      <th>Cholesterol</th>\n",
              "      <th>Na_to_K</th>\n",
              "      <th>Drug</th>\n",
              "    </tr>\n",
              "  </thead>\n",
              "  <tbody>\n",
              "    <tr>\n",
              "      <th>count</th>\n",
              "      <td>200.000000</td>\n",
              "      <td>200</td>\n",
              "      <td>200</td>\n",
              "      <td>200</td>\n",
              "      <td>200.000000</td>\n",
              "      <td>200</td>\n",
              "    </tr>\n",
              "    <tr>\n",
              "      <th>unique</th>\n",
              "      <td>NaN</td>\n",
              "      <td>2</td>\n",
              "      <td>3</td>\n",
              "      <td>2</td>\n",
              "      <td>NaN</td>\n",
              "      <td>5</td>\n",
              "    </tr>\n",
              "    <tr>\n",
              "      <th>top</th>\n",
              "      <td>NaN</td>\n",
              "      <td>M</td>\n",
              "      <td>HIGH</td>\n",
              "      <td>HIGH</td>\n",
              "      <td>NaN</td>\n",
              "      <td>DrugY</td>\n",
              "    </tr>\n",
              "    <tr>\n",
              "      <th>freq</th>\n",
              "      <td>NaN</td>\n",
              "      <td>104</td>\n",
              "      <td>77</td>\n",
              "      <td>103</td>\n",
              "      <td>NaN</td>\n",
              "      <td>91</td>\n",
              "    </tr>\n",
              "    <tr>\n",
              "      <th>mean</th>\n",
              "      <td>44.315000</td>\n",
              "      <td>NaN</td>\n",
              "      <td>NaN</td>\n",
              "      <td>NaN</td>\n",
              "      <td>16.084485</td>\n",
              "      <td>NaN</td>\n",
              "    </tr>\n",
              "    <tr>\n",
              "      <th>std</th>\n",
              "      <td>16.544315</td>\n",
              "      <td>NaN</td>\n",
              "      <td>NaN</td>\n",
              "      <td>NaN</td>\n",
              "      <td>7.223956</td>\n",
              "      <td>NaN</td>\n",
              "    </tr>\n",
              "    <tr>\n",
              "      <th>min</th>\n",
              "      <td>15.000000</td>\n",
              "      <td>NaN</td>\n",
              "      <td>NaN</td>\n",
              "      <td>NaN</td>\n",
              "      <td>6.269000</td>\n",
              "      <td>NaN</td>\n",
              "    </tr>\n",
              "    <tr>\n",
              "      <th>25%</th>\n",
              "      <td>31.000000</td>\n",
              "      <td>NaN</td>\n",
              "      <td>NaN</td>\n",
              "      <td>NaN</td>\n",
              "      <td>10.445500</td>\n",
              "      <td>NaN</td>\n",
              "    </tr>\n",
              "    <tr>\n",
              "      <th>50%</th>\n",
              "      <td>45.000000</td>\n",
              "      <td>NaN</td>\n",
              "      <td>NaN</td>\n",
              "      <td>NaN</td>\n",
              "      <td>13.936500</td>\n",
              "      <td>NaN</td>\n",
              "    </tr>\n",
              "    <tr>\n",
              "      <th>75%</th>\n",
              "      <td>58.000000</td>\n",
              "      <td>NaN</td>\n",
              "      <td>NaN</td>\n",
              "      <td>NaN</td>\n",
              "      <td>19.380000</td>\n",
              "      <td>NaN</td>\n",
              "    </tr>\n",
              "    <tr>\n",
              "      <th>max</th>\n",
              "      <td>74.000000</td>\n",
              "      <td>NaN</td>\n",
              "      <td>NaN</td>\n",
              "      <td>NaN</td>\n",
              "      <td>38.247000</td>\n",
              "      <td>NaN</td>\n",
              "    </tr>\n",
              "  </tbody>\n",
              "</table>\n",
              "</div>\n",
              "      <button class=\"colab-df-convert\" onclick=\"convertToInteractive('df-a460466a-a609-44ec-8a1d-47404285da1c')\"\n",
              "              title=\"Convert this dataframe to an interactive table.\"\n",
              "              style=\"display:none;\">\n",
              "        \n",
              "  <svg xmlns=\"http://www.w3.org/2000/svg\" height=\"24px\"viewBox=\"0 0 24 24\"\n",
              "       width=\"24px\">\n",
              "    <path d=\"M0 0h24v24H0V0z\" fill=\"none\"/>\n",
              "    <path d=\"M18.56 5.44l.94 2.06.94-2.06 2.06-.94-2.06-.94-.94-2.06-.94 2.06-2.06.94zm-11 1L8.5 8.5l.94-2.06 2.06-.94-2.06-.94L8.5 2.5l-.94 2.06-2.06.94zm10 10l.94 2.06.94-2.06 2.06-.94-2.06-.94-.94-2.06-.94 2.06-2.06.94z\"/><path d=\"M17.41 7.96l-1.37-1.37c-.4-.4-.92-.59-1.43-.59-.52 0-1.04.2-1.43.59L10.3 9.45l-7.72 7.72c-.78.78-.78 2.05 0 2.83L4 21.41c.39.39.9.59 1.41.59.51 0 1.02-.2 1.41-.59l7.78-7.78 2.81-2.81c.8-.78.8-2.07 0-2.86zM5.41 20L4 18.59l7.72-7.72 1.47 1.35L5.41 20z\"/>\n",
              "  </svg>\n",
              "      </button>\n",
              "      \n",
              "  <style>\n",
              "    .colab-df-container {\n",
              "      display:flex;\n",
              "      flex-wrap:wrap;\n",
              "      gap: 12px;\n",
              "    }\n",
              "\n",
              "    .colab-df-convert {\n",
              "      background-color: #E8F0FE;\n",
              "      border: none;\n",
              "      border-radius: 50%;\n",
              "      cursor: pointer;\n",
              "      display: none;\n",
              "      fill: #1967D2;\n",
              "      height: 32px;\n",
              "      padding: 0 0 0 0;\n",
              "      width: 32px;\n",
              "    }\n",
              "\n",
              "    .colab-df-convert:hover {\n",
              "      background-color: #E2EBFA;\n",
              "      box-shadow: 0px 1px 2px rgba(60, 64, 67, 0.3), 0px 1px 3px 1px rgba(60, 64, 67, 0.15);\n",
              "      fill: #174EA6;\n",
              "    }\n",
              "\n",
              "    [theme=dark] .colab-df-convert {\n",
              "      background-color: #3B4455;\n",
              "      fill: #D2E3FC;\n",
              "    }\n",
              "\n",
              "    [theme=dark] .colab-df-convert:hover {\n",
              "      background-color: #434B5C;\n",
              "      box-shadow: 0px 1px 3px 1px rgba(0, 0, 0, 0.15);\n",
              "      filter: drop-shadow(0px 1px 2px rgba(0, 0, 0, 0.3));\n",
              "      fill: #FFFFFF;\n",
              "    }\n",
              "  </style>\n",
              "\n",
              "      <script>\n",
              "        const buttonEl =\n",
              "          document.querySelector('#df-a460466a-a609-44ec-8a1d-47404285da1c button.colab-df-convert');\n",
              "        buttonEl.style.display =\n",
              "          google.colab.kernel.accessAllowed ? 'block' : 'none';\n",
              "\n",
              "        async function convertToInteractive(key) {\n",
              "          const element = document.querySelector('#df-a460466a-a609-44ec-8a1d-47404285da1c');\n",
              "          const dataTable =\n",
              "            await google.colab.kernel.invokeFunction('convertToInteractive',\n",
              "                                                     [key], {});\n",
              "          if (!dataTable) return;\n",
              "\n",
              "          const docLinkHtml = 'Like what you see? Visit the ' +\n",
              "            '<a target=\"_blank\" href=https://colab.research.google.com/notebooks/data_table.ipynb>data table notebook</a>'\n",
              "            + ' to learn more about interactive tables.';\n",
              "          element.innerHTML = '';\n",
              "          dataTable['output_type'] = 'display_data';\n",
              "          await google.colab.output.renderOutput(dataTable, element);\n",
              "          const docLink = document.createElement('div');\n",
              "          docLink.innerHTML = docLinkHtml;\n",
              "          element.appendChild(docLink);\n",
              "        }\n",
              "      </script>\n",
              "    </div>\n",
              "  </div>\n",
              "  "
            ]
          },
          "metadata": {},
          "execution_count": 4
        }
      ]
    },
    {
      "cell_type": "code",
      "source": [
        "df.shape"
      ],
      "metadata": {
        "colab": {
          "base_uri": "https://localhost:8080/"
        },
        "id": "ZUbenCQqhb4i",
        "outputId": "91cc40cf-7c1e-46e8-ff6c-8276c55e409f"
      },
      "execution_count": 5,
      "outputs": [
        {
          "output_type": "execute_result",
          "data": {
            "text/plain": [
              "(200, 6)"
            ]
          },
          "metadata": {},
          "execution_count": 5
        }
      ]
    },
    {
      "cell_type": "code",
      "source": [
        "sns.boxplot(df)"
      ],
      "metadata": {
        "colab": {
          "base_uri": "https://localhost:8080/",
          "height": 447
        },
        "id": "XN4t6vIyeFr8",
        "outputId": "0a235967-7841-4def-9654-cdd9555bbf29"
      },
      "execution_count": 6,
      "outputs": [
        {
          "output_type": "execute_result",
          "data": {
            "text/plain": [
              "<Axes: >"
            ]
          },
          "metadata": {},
          "execution_count": 6
        },
        {
          "output_type": "display_data",
          "data": {
            "text/plain": [
              "<Figure size 640x480 with 1 Axes>"
            ],
            "image/png": "[encoded data removed]"
          },
          "metadata": {}
        }
      ]
    },
    {
      "cell_type": "code",
      "source": [
        "df.Sex.unique()"
      ],
      "metadata": {
        "colab": {
          "base_uri": "https://localhost:8080/"
        },
        "id": "rFE0cpx3e9AY",
        "outputId": "9b98e843-387b-467a-91c5-b94e12fd7961"
      },
      "execution_count": 7,
      "outputs": [
        {
          "output_type": "execute_result",
          "data": {
            "text/plain": [
              "array(['F', 'M'], dtype=object)"
            ]
          },
          "metadata": {},
          "execution_count": 7
        }
      ]
    },
    {
      "cell_type": "code",
      "source": [
        "df.Cholesterol.unique()"
      ],
      "metadata": {
        "colab": {
          "base_uri": "https://localhost:8080/"
        },
        "id": "NhHFEDvRe82u",
        "outputId": "b524ed93-bdb9-4b6e-c60f-19a60dbe8a7b"
      },
      "execution_count": 8,
      "outputs": [
        {
          "output_type": "execute_result",
          "data": {
            "text/plain": [
              "array(['HIGH', 'NORMAL'], dtype=object)"
            ]
          },
          "metadata": {},
          "execution_count": 8
        }
      ]
    },
    {
      "cell_type": "code",
      "source": [
        "df.Drug.unique()"
      ],
      "metadata": {
        "colab": {
          "base_uri": "https://localhost:8080/"
        },
        "id": "d6COl34ke8tJ",
        "outputId": "bd9c086f-9415-4583-e198-be8aceeb01fd"
      },
      "execution_count": 9,
      "outputs": [
        {
          "output_type": "execute_result",
          "data": {
            "text/plain": [
              "array(['DrugY', 'drugC', 'drugX', 'drugA', 'drugB'], dtype=object)"
            ]
          },
          "metadata": {},
          "execution_count": 9
        }
      ]
    },
    {
      "cell_type": "code",
      "source": [
        "## Outlier"
      ],
      "metadata": {
        "id": "6hknM-2Lf1h3"
      },
      "execution_count": 10,
      "outputs": []
    },
    {
      "cell_type": "code",
      "source": [
        "q1 = df[\"Na_to_K\"].quantile(.25)\n",
        "q3 = df[\"Na_to_K\"].quantile(.75)\n",
        "\n",
        "IQR = q3 - q1\n",
        "IQR"
      ],
      "metadata": {
        "colab": {
          "base_uri": "https://localhost:8080/"
        },
        "id": "_bMwewsSgl-t",
        "outputId": "01568ca2-15be-4ede-dd9b-b66a5ecfdd69"
      },
      "execution_count": 11,
      "outputs": [
        {
          "output_type": "execute_result",
          "data": {
            "text/plain": [
              "8.9345"
            ]
          },
          "metadata": {},
          "execution_count": 11
        }
      ]
    },
    {
      "cell_type": "code",
      "source": [
        "up_lim = q3 + 1.5 *IQR\n",
        "df2 = df[df[\"Na_to_K\"] < up_lim]"
      ],
      "metadata": {
        "id": "JIk2FeyweqNI"
      },
      "execution_count": 12,
      "outputs": []
    },
    {
      "cell_type": "code",
      "source": [
        "df2.shape"
      ],
      "metadata": {
        "colab": {
          "base_uri": "https://localhost:8080/"
        },
        "id": "2jzHU2aEhnjs",
        "outputId": "833872eb-357d-4e2a-b089-98b0e359ccbd"
      },
      "execution_count": 13,
      "outputs": [
        {
          "output_type": "execute_result",
          "data": {
            "text/plain": [
              "(192, 6)"
            ]
          },
          "metadata": {},
          "execution_count": 13
        }
      ]
    },
    {
      "cell_type": "code",
      "source": [
        "sns.boxplot(df2[\"Na_to_K\"])"
      ],
      "metadata": {
        "colab": {
          "base_uri": "https://localhost:8080/",
          "height": 447
        },
        "id": "K70FZLZ-hqZ7",
        "outputId": "d94ebea5-f131-439d-881a-3ac4b5358c00"
      },
      "execution_count": 14,
      "outputs": [
        {
          "output_type": "execute_result",
          "data": {
            "text/plain": [
              "<Axes: >"
            ]
          },
          "metadata": {},
          "execution_count": 14
        },
        {
          "output_type": "display_data",
          "data": {
            "text/plain": [
              "<Figure size 640x480 with 1 Axes>"
            ],
            "image/png": "[encoded data removed]"
          },
          "metadata": {}
        }
      ]
    },
    {
      "cell_type": "code",
      "source": [
        "sns.heatmap(df.corr(), annot = True)"
      ],
      "metadata": {
        "colab": {
          "base_uri": "https://localhost:8080/",
          "height": 506
        },
        "id": "ovQNAWXrhw55",
        "outputId": "7276b1b2-59c7-4a02-9ce4-1eeaeaeff1d2"
      },
      "execution_count": 15,
      "outputs": [
        {
          "output_type": "stream",
          "name": "stderr",
          "text": [
            "<ipython-input-15-fe43fffaf13b>:1: FutureWarning: The default value of numeric_only in DataFrame.corr is deprecated. In a future version, it will default to False. Select only valid columns or specify the value of numeric_only to silence this warning.\n",
            "  sns.heatmap(df.corr(), annot = True)\n"
          ]
        },
        {
          "output_type": "execute_result",
          "data": {
            "text/plain": [
              "<Axes: >"
            ]
          },
          "metadata": {},
          "execution_count": 15
        },
        {
          "output_type": "display_data",
          "data": {
            "text/plain": [
              "<Figure size 640x480 with 2 Axes>"
            ],
            "image/png": "[encoded data removed]"
          },
          "metadata": {}
        }
      ]
    },
    {
      "cell_type": "code",
      "source": [
        "sns.distplot(df['Age'])"
      ],
      "metadata": {
        "colab": {
          "base_uri": "https://localhost:8080/",
          "height": 653
        },
        "id": "OVyoXNUFjfeF",
        "outputId": "5b508bdb-8661-4f1c-e440-70ef281862aa"
      },
      "execution_count": 16,
      "outputs": [
        {
          "output_type": "stream",
          "name": "stderr",
          "text": [
            "<ipython-input-16-0fafe04ea3f6>:1: UserWarning: \n",
            "\n",
            "`distplot` is a deprecated function and will be removed in seaborn v0.14.0.\n",
            "\n",
            "Please adapt your code to use either `displot` (a figure-level function with\n",
            "similar flexibility) or `histplot` (an axes-level function for histograms).\n",
            "\n",
            "For a guide to updating your code to use the new functions, please see\n",
            "https://gist.github.com/mwaskom/de44147ed2974457ad6372750bbe5751\n",
            "\n",
            "  sns.distplot(df['Age'])\n"
          ]
        },
        {
          "output_type": "execute_result",
          "data": {
            "text/plain": [
              "<Axes: xlabel='Age', ylabel='Density'>"
            ]
          },
          "metadata": {},
          "execution_count": 16
        },
        {
          "output_type": "display_data",
          "data": {
            "text/plain": [
              "<Figure size 640x480 with 1 Axes>"
            ],
            "image/png": "[encoded data removed]"
          },
          "metadata": {}
        }
      ]
    },
    {
      "cell_type": "code",
      "source": [
        "x = df2.drop([\"Drug\"], axis=1)\n",
        "y = df2[\"Drug\"]"
      ],
      "metadata": {
        "id": "prKba8XJj51p"
      },
      "execution_count": 17,
      "outputs": []
    },
    {
      "cell_type": "code",
      "source": [
        "dy = pd.get_dummies(y)"
      ],
      "metadata": {
        "id": "7IN7bmjxm0PB"
      },
      "execution_count": 18,
      "outputs": []
    },
    {
      "cell_type": "code",
      "source": [
        "from sklearn.model_selection import train_test_split\n",
        "x_train, x_test, y_train, y_test = train_test_split(x,dy,test_size=0.2, random_state=42)"
      ],
      "metadata": {
        "id": "RncfDF-ujlqB"
      },
      "execution_count": 19,
      "outputs": []
    },
    {
      "cell_type": "code",
      "source": [
        "from sklearn.preprocessing import LabelEncoder"
      ],
      "metadata": {
        "id": "qUJj6tJVkRWp"
      },
      "execution_count": 20,
      "outputs": []
    },
    {
      "cell_type": "code",
      "source": [
        "bp_le = LabelEncoder()\n",
        "sx_le = LabelEncoder()\n",
        "ch_le = LabelEncoder()"
      ],
      "metadata": {
        "id": "Kb64rYQNkXLV"
      },
      "execution_count": 21,
      "outputs": []
    },
    {
      "cell_type": "code",
      "source": [
        "x_train['BP'] = bp_le.fit_transform(x_train['BP'])\n",
        "x_train['BP']"
      ],
      "metadata": {
        "colab": {
          "base_uri": "https://localhost:8080/"
        },
        "id": "j3UPX_bxk6yA",
        "outputId": "b204256a-93ff-4548-a5ff-006e8b013afa"
      },
      "execution_count": 22,
      "outputs": [
        {
          "output_type": "execute_result",
          "data": {
            "text/plain": [
              "83     0\n",
              "112    1\n",
              "167    2\n",
              "36     0\n",
              "140    0\n",
              "      ..\n",
              "109    2\n",
              "14     2\n",
              "93     1\n",
              "185    2\n",
              "105    1\n",
              "Name: BP, Length: 153, dtype: int64"
            ]
          },
          "metadata": {},
          "execution_count": 22
        }
      ]
    },
    {
      "cell_type": "code",
      "source": [
        "bp_le.classes_"
      ],
      "metadata": {
        "colab": {
          "base_uri": "https://localhost:8080/"
        },
        "id": "T1pC0VhYleu2",
        "outputId": "f24af19a-9297-4d7c-a5e5-00d9f91ca60a"
      },
      "execution_count": 23,
      "outputs": [
        {
          "output_type": "execute_result",
          "data": {
            "text/plain": [
              "array(['HIGH', 'LOW', 'NORMAL'], dtype=object)"
            ]
          },
          "metadata": {},
          "execution_count": 23
        }
      ]
    },
    {
      "cell_type": "code",
      "source": [
        "x_train['Sex'] = sx_le.fit_transform(x_train['Sex'])\n",
        "x_train['Sex']"
      ],
      "metadata": {
        "colab": {
          "base_uri": "https://localhost:8080/"
        },
        "id": "N3QhAOaBlH3j",
        "outputId": "e4e6a3af-6ae5-4e6d-fe8e-2d0c4ab5694a"
      },
      "execution_count": 24,
      "outputs": [
        {
          "output_type": "execute_result",
          "data": {
            "text/plain": [
              "83     0\n",
              "112    1\n",
              "167    0\n",
              "36     1\n",
              "140    1\n",
              "      ..\n",
              "109    1\n",
              "14     0\n",
              "93     0\n",
              "185    0\n",
              "105    1\n",
              "Name: Sex, Length: 153, dtype: int64"
            ]
          },
          "metadata": {},
          "execution_count": 24
        }
      ]
    },
    {
      "cell_type": "code",
      "source": [
        "x_train['Cholesterol'] = ch_le.fit_transform(x_train['Cholesterol'])\n",
        "x_train['Cholesterol']"
      ],
      "metadata": {
        "colab": {
          "base_uri": "https://localhost:8080/"
        },
        "id": "i9Q1I3iAmctc",
        "outputId": "4cadd156-c211-448d-e1bb-a31cabf09cdf"
      },
      "execution_count": 25,
      "outputs": [
        {
          "output_type": "execute_result",
          "data": {
            "text/plain": [
              "83     1\n",
              "112    1\n",
              "167    0\n",
              "36     1\n",
              "140    1\n",
              "      ..\n",
              "109    0\n",
              "14     0\n",
              "93     1\n",
              "185    1\n",
              "105    1\n",
              "Name: Cholesterol, Length: 153, dtype: int64"
            ]
          },
          "metadata": {},
          "execution_count": 25
        }
      ]
    },
    {
      "cell_type": "code",
      "source": [
        "ch_le.classes_"
      ],
      "metadata": {
        "colab": {
          "base_uri": "https://localhost:8080/"
        },
        "id": "KSqDtZ-mmv4H",
        "outputId": "3a820d0c-71bb-4cbf-f388-91e1585dd9f3"
      },
      "execution_count": 26,
      "outputs": [
        {
          "output_type": "execute_result",
          "data": {
            "text/plain": [
              "array(['HIGH', 'NORMAL'], dtype=object)"
            ]
          },
          "metadata": {},
          "execution_count": 26
        }
      ]
    },
    {
      "cell_type": "code",
      "source": [
        "y_train"
      ],
      "metadata": {
        "colab": {
          "base_uri": "https://localhost:8080/",
          "height": 419
        },
        "id": "ITnDKSncm__1",
        "outputId": "354fa698-d9a7-49ec-d1c6-dd7b7ebe0889"
      },
      "execution_count": 27,
      "outputs": [
        {
          "output_type": "execute_result",
          "data": {
            "text/plain": [
              "     DrugY  drugA  drugB  drugC  drugX\n",
              "83       0      1      0      0      0\n",
              "112      0      0      0      0      1\n",
              "167      0      0      0      0      1\n",
              "36       0      1      0      0      0\n",
              "140      0      1      0      0      0\n",
              "..     ...    ...    ...    ...    ...\n",
              "109      1      0      0      0      0\n",
              "14       0      0      0      0      1\n",
              "93       1      0      0      0      0\n",
              "185      1      0      0      0      0\n",
              "105      0      0      0      0      1\n",
              "\n",
              "[153 rows x 5 columns]"
            ],
            "text/html": [
              "\n",
              "  <div id=\"df-0bf241af-3dc5-4ec6-be4a-6f6b6d30e7ff\">\n",
              "    <div class=\"colab-df-container\">\n",
              "      <div>\n",
              "<style scoped>\n",
              "    .dataframe tbody tr th:only-of-type {\n",
              "        vertical-align: middle;\n",
              "    }\n",
              "\n",
              "    .dataframe tbody tr th {\n",
              "        vertical-align: top;\n",
              "    }\n",
              "\n",
              "    .dataframe thead th {\n",
              "        text-align: right;\n",
              "    }\n",
              "</style>\n",
              "<table border=\"1\" class=\"dataframe\">\n",
              "  <thead>\n",
              "    <tr style=\"text-align: right;\">\n",
              "      <th></th>\n",
              "      <th>DrugY</th>\n",
              "      <th>drugA</th>\n",
              "      <th>drugB</th>\n",
              "      <th>drugC</th>\n",
              "      <th>drugX</th>\n",
              "    </tr>\n",
              "  </thead>\n",
              "  <tbody>\n",
              "    <tr>\n",
              "      <th>83</th>\n",
              "      <td>0</td>\n",
              "      <td>1</td>\n",
              "      <td>0</td>\n",
              "      <td>0</td>\n",
              "      <td>0</td>\n",
              "    </tr>\n",
              "    <tr>\n",
              "      <th>112</th>\n",
              "      <td>0</td>\n",
              "      <td>0</td>\n",
              "      <td>0</td>\n",
              "      <td>0</td>\n",
              "      <td>1</td>\n",
              "    </tr>\n",
              "    <tr>\n",
              "      <th>167</th>\n",
              "      <td>0</td>\n",
              "      <td>0</td>\n",
              "      <td>0</td>\n",
              "      <td>0</td>\n",
              "      <td>1</td>\n",
              "    </tr>\n",
              "    <tr>\n",
              "      <th>36</th>\n",
              "      <td>0</td>\n",
              "      <td>1</td>\n",
              "      <td>0</td>\n",
              "      <td>0</td>\n",
              "      <td>0</td>\n",
              "    </tr>\n",
              "    <tr>\n",
              "      <th>140</th>\n",
              "      <td>0</td>\n",
              "      <td>1</td>\n",
              "      <td>0</td>\n",
              "      <td>0</td>\n",
              "      <td>0</td>\n",
              "    </tr>\n",
              "    <tr>\n",
              "      <th>...</th>\n",
              "      <td>...</td>\n",
              "      <td>...</td>\n",
              "      <td>...</td>\n",
              "      <td>...</td>\n",
              "      <td>...</td>\n",
              "    </tr>\n",
              "    <tr>\n",
              "      <th>109</th>\n",
              "      <td>1</td>\n",
              "      <td>0</td>\n",
              "      <td>0</td>\n",
              "      <td>0</td>\n",
              "      <td>0</td>\n",
              "    </tr>\n",
              "    <tr>\n",
              "      <th>14</th>\n",
              "      <td>0</td>\n",
              "      <td>0</td>\n",
              "      <td>0</td>\n",
              "      <td>0</td>\n",
              "      <td>1</td>\n",
              "    </tr>\n",
              "    <tr>\n",
              "      <th>93</th>\n",
              "      <td>1</td>\n",
              "      <td>0</td>\n",
              "      <td>0</td>\n",
              "      <td>0</td>\n",
              "      <td>0</td>\n",
              "    </tr>\n",
              "    <tr>\n",
              "      <th>185</th>\n",
              "      <td>1</td>\n",
              "      <td>0</td>\n",
              "      <td>0</td>\n",
              "      <td>0</td>\n",
              "      <td>0</td>\n",
              "    </tr>\n",
              "    <tr>\n",
              "      <th>105</th>\n",
              "      <td>0</td>\n",
              "      <td>0</td>\n",
              "      <td>0</td>\n",
              "      <td>0</td>\n",
              "      <td>1</td>\n",
              "    </tr>\n",
              "  </tbody>\n",
              "</table>\n",
              "<p>153 rows × 5 columns</p>\n",
              "</div>\n",
              "      <button class=\"colab-df-convert\" onclick=\"convertToInteractive('df-0bf241af-3dc5-4ec6-be4a-6f6b6d30e7ff')\"\n",
              "              title=\"Convert this dataframe to an interactive table.\"\n",
              "              style=\"display:none;\">\n",
              "        \n",
              "  <svg xmlns=\"http://www.w3.org/2000/svg\" height=\"24px\"viewBox=\"0 0 24 24\"\n",
              "       width=\"24px\">\n",
              "    <path d=\"M0 0h24v24H0V0z\" fill=\"none\"/>\n",
              "    <path d=\"M18.56 5.44l.94 2.06.94-2.06 2.06-.94-2.06-.94-.94-2.06-.94 2.06-2.06.94zm-11 1L8.5 8.5l.94-2.06 2.06-.94-2.06-.94L8.5 2.5l-.94 2.06-2.06.94zm10 10l.94 2.06.94-2.06 2.06-.94-2.06-.94-.94-2.06-.94 2.06-2.06.94z\"/><path d=\"M17.41 7.96l-1.37-1.37c-.4-.4-.92-.59-1.43-.59-.52 0-1.04.2-1.43.59L10.3 9.45l-7.72 7.72c-.78.78-.78 2.05 0 2.83L4 21.41c.39.39.9.59 1.41.59.51 0 1.02-.2 1.41-.59l7.78-7.78 2.81-2.81c.8-.78.8-2.07 0-2.86zM5.41 20L4 18.59l7.72-7.72 1.47 1.35L5.41 20z\"/>\n",
              "  </svg>\n",
              "      </button>\n",
              "      \n",
              "  <style>\n",
              "    .colab-df-container {\n",
              "      display:flex;\n",
              "      flex-wrap:wrap;\n",
              "      gap: 12px;\n",
              "    }\n",
              "\n",
              "    .colab-df-convert {\n",
              "      background-color: #E8F0FE;\n",
              "      border: none;\n",
              "      border-radius: 50%;\n",
              "      cursor: pointer;\n",
              "      display: none;\n",
              "      fill: #1967D2;\n",
              "      height: 32px;\n",
              "      padding: 0 0 0 0;\n",
              "      width: 32px;\n",
              "    }\n",
              "\n",
              "    .colab-df-convert:hover {\n",
              "      background-color: #E2EBFA;\n",
              "      box-shadow: 0px 1px 2px rgba(60, 64, 67, 0.3), 0px 1px 3px 1px rgba(60, 64, 67, 0.15);\n",
              "      fill: #174EA6;\n",
              "    }\n",
              "\n",
              "    [theme=dark] .colab-df-convert {\n",
              "      background-color: #3B4455;\n",
              "      fill: #D2E3FC;\n",
              "    }\n",
              "\n",
              "    [theme=dark] .colab-df-convert:hover {\n",
              "      background-color: #434B5C;\n",
              "      box-shadow: 0px 1px 3px 1px rgba(0, 0, 0, 0.15);\n",
              "      filter: drop-shadow(0px 1px 2px rgba(0, 0, 0, 0.3));\n",
              "      fill: #FFFFFF;\n",
              "    }\n",
              "  </style>\n",
              "\n",
              "      <script>\n",
              "        const buttonEl =\n",
              "          document.querySelector('#df-0bf241af-3dc5-4ec6-be4a-6f6b6d30e7ff button.colab-df-convert');\n",
              "        buttonEl.style.display =\n",
              "          google.colab.kernel.accessAllowed ? 'block' : 'none';\n",
              "\n",
              "        async function convertToInteractive(key) {\n",
              "          const element = document.querySelector('#df-0bf241af-3dc5-4ec6-be4a-6f6b6d30e7ff');\n",
              "          const dataTable =\n",
              "            await google.colab.kernel.invokeFunction('convertToInteractive',\n",
              "                                                     [key], {});\n",
              "          if (!dataTable) return;\n",
              "\n",
              "          const docLinkHtml = 'Like what you see? Visit the ' +\n",
              "            '<a target=\"_blank\" href=https://colab.research.google.com/notebooks/data_table.ipynb>data table notebook</a>'\n",
              "            + ' to learn more about interactive tables.';\n",
              "          element.innerHTML = '';\n",
              "          dataTable['output_type'] = 'display_data';\n",
              "          await google.colab.output.renderOutput(dataTable, element);\n",
              "          const docLink = document.createElement('div');\n",
              "          docLink.innerHTML = docLinkHtml;\n",
              "          element.appendChild(docLink);\n",
              "        }\n",
              "      </script>\n",
              "    </div>\n",
              "  </div>\n",
              "  "
            ]
          },
          "metadata": {},
          "execution_count": 27
        }
      ]
    },
    {
      "cell_type": "code",
      "source": [
        "from tensorflow.keras.models import Sequential\n",
        "from tensorflow.keras.layers import Dense"
      ],
      "metadata": {
        "id": "ek3x8PVmnAUG"
      },
      "execution_count": 28,
      "outputs": []
    },
    {
      "cell_type": "code",
      "source": [
        "model = Sequential()\n",
        "model.add(Dense(5, input_dim=5, activation='relu'))\n",
        "model.add(Dense(32, activation='relu'))\n",
        "model.add(Dense(32, activation='relu'))\n",
        "model.add(Dense(32, activation='relu'))\n",
        "model.add(Dense(32, activation='relu'))\n",
        "model.add(Dense(5, activation='softmax'))"
      ],
      "metadata": {
        "id": "yR75q2bsndYw"
      },
      "execution_count": 29,
      "outputs": []
    },
    {
      "cell_type": "code",
      "source": [
        "model.compile(optimizer='adam', loss='categorical_crossentropy', metrics=['accuracy'])"
      ],
      "metadata": {
        "id": "oHTNLYcyoBaJ"
      },
      "execution_count": 30,
      "outputs": []
    },
    {
      "cell_type": "code",
      "source": [
        "model.summary()"
      ],
      "metadata": {
        "colab": {
          "base_uri": "https://localhost:8080/"
        },
        "id": "WKUJIpWyoQ2u",
        "outputId": "a82f0f90-e922-40c4-9c7b-2df8f8666332"
      },
      "execution_count": 31,
      "outputs": [
        {
          "output_type": "stream",
          "name": "stdout",
          "text": [
            "Model: \"sequential\"\n",
            "_________________________________________________________________\n",
            " Layer (type)                Output Shape              Param #   \n",
            "=================================================================\n",
            " dense (Dense)               (None, 5)                 30        \n",
            "                                                                 \n",
            " dense_1 (Dense)             (None, 32)                192       \n",
            "                                                                 \n",
            " dense_2 (Dense)             (None, 32)                1056      \n",
            "                                                                 \n",
            " dense_3 (Dense)             (None, 32)                1056      \n",
            "                                                                 \n",
            " dense_4 (Dense)             (None, 32)                1056      \n",
            "                                                                 \n",
            " dense_5 (Dense)             (None, 5)                 165       \n",
            "                                                                 \n",
            "=================================================================\n",
            "Total params: 3,555\n",
            "Trainable params: 3,555\n",
            "Non-trainable params: 0\n",
            "_________________________________________________________________\n"
          ]
        }
      ]
    },
    {
      "cell_type": "code",
      "source": [
        "x_test['Cholesterol'] = ch_le.transform(x_test['Cholesterol'])\n",
        "x_test['BP'] = bp_le.transform(x_test['BP'])\n",
        "x_test['Sex'] = sx_le.transform(x_test['Sex'])"
      ],
      "metadata": {
        "id": "aSwqeUyrp6VH"
      },
      "execution_count": 32,
      "outputs": []
    },
    {
      "cell_type": "code",
      "source": [
        "model.fit(x_train,y_train.values,epochs=150,batch_size=5,validation_data=(x_test,y_test.values))"
      ],
      "metadata": {
        "colab": {
          "base_uri": "https://localhost:8080/"
        },
        "id": "XhFRORcloSZe",
        "outputId": "5c26c082-2edc-4cc2-c01b-06f5351f06c4"
      },
      "execution_count": 33,
      "outputs": [
        {
          "output_type": "stream",
          "name": "stdout",
          "text": [
            "Epoch 1/150\n",
            "31/31 [==============================] - 4s 29ms/step - loss: 1.5132 - accuracy: 0.4379 - val_loss: 1.4755 - val_accuracy: 0.4103\n",
            "Epoch 2/150\n",
            "31/31 [==============================] - 0s 11ms/step - loss: 1.2906 - accuracy: 0.5425 - val_loss: 1.5088 - val_accuracy: 0.3846\n",
            "Epoch 3/150\n",
            "31/31 [==============================] - 0s 6ms/step - loss: 1.2197 - accuracy: 0.5425 - val_loss: 1.3992 - val_accuracy: 0.3846\n",
            "Epoch 4/150\n",
            "31/31 [==============================] - 0s 7ms/step - loss: 1.1361 - accuracy: 0.5621 - val_loss: 1.2875 - val_accuracy: 0.4359\n",
            "Epoch 5/150\n",
            "31/31 [==============================] - 0s 9ms/step - loss: 1.1091 - accuracy: 0.5621 - val_loss: 1.2702 - val_accuracy: 0.4359\n",
            "Epoch 6/150\n",
            "31/31 [==============================] - 0s 6ms/step - loss: 1.0608 - accuracy: 0.5621 - val_loss: 1.2059 - val_accuracy: 0.4359\n",
            "Epoch 7/150\n",
            "31/31 [==============================] - 0s 8ms/step - loss: 1.0641 - accuracy: 0.5948 - val_loss: 1.2188 - val_accuracy: 0.4359\n",
            "Epoch 8/150\n",
            "31/31 [==============================] - 0s 8ms/step - loss: 1.0956 - accuracy: 0.5359 - val_loss: 1.2006 - val_accuracy: 0.4359\n",
            "Epoch 9/150\n",
            "31/31 [==============================] - 0s 6ms/step - loss: 1.0292 - accuracy: 0.5882 - val_loss: 1.1562 - val_accuracy: 0.4359\n",
            "Epoch 10/150\n",
            "31/31 [==============================] - 0s 7ms/step - loss: 1.0379 - accuracy: 0.5425 - val_loss: 1.1844 - val_accuracy: 0.4615\n",
            "Epoch 11/150\n",
            "31/31 [==============================] - 0s 12ms/step - loss: 1.0166 - accuracy: 0.5817 - val_loss: 1.1966 - val_accuracy: 0.4359\n",
            "Epoch 12/150\n",
            "31/31 [==============================] - 1s 18ms/step - loss: 0.9921 - accuracy: 0.5686 - val_loss: 1.1606 - val_accuracy: 0.4103\n",
            "Epoch 13/150\n",
            "31/31 [==============================] - 1s 18ms/step - loss: 0.9854 - accuracy: 0.5752 - val_loss: 1.2203 - val_accuracy: 0.4359\n",
            "Epoch 14/150\n",
            "31/31 [==============================] - 1s 17ms/step - loss: 0.9885 - accuracy: 0.5882 - val_loss: 1.1023 - val_accuracy: 0.4872\n",
            "Epoch 15/150\n",
            "31/31 [==============================] - 0s 15ms/step - loss: 1.0127 - accuracy: 0.6078 - val_loss: 1.2604 - val_accuracy: 0.3590\n",
            "Epoch 16/150\n",
            "31/31 [==============================] - 0s 9ms/step - loss: 0.9705 - accuracy: 0.6144 - val_loss: 1.2216 - val_accuracy: 0.4359\n",
            "Epoch 17/150\n",
            "31/31 [==============================] - 0s 11ms/step - loss: 1.0056 - accuracy: 0.5752 - val_loss: 1.2056 - val_accuracy: 0.4359\n",
            "Epoch 18/150\n",
            "31/31 [==============================] - 0s 14ms/step - loss: 0.9867 - accuracy: 0.5817 - val_loss: 1.1121 - val_accuracy: 0.4615\n",
            "Epoch 19/150\n",
            "31/31 [==============================] - 1s 21ms/step - loss: 0.9110 - accuracy: 0.6078 - val_loss: 1.0455 - val_accuracy: 0.4359\n",
            "Epoch 20/150\n",
            "31/31 [==============================] - 0s 11ms/step - loss: 0.9514 - accuracy: 0.5948 - val_loss: 1.0460 - val_accuracy: 0.4615\n",
            "Epoch 21/150\n",
            "31/31 [==============================] - 0s 14ms/step - loss: 0.8787 - accuracy: 0.6471 - val_loss: 1.0657 - val_accuracy: 0.4872\n",
            "Epoch 22/150\n",
            "31/31 [==============================] - 0s 12ms/step - loss: 0.8620 - accuracy: 0.6209 - val_loss: 0.9957 - val_accuracy: 0.5385\n",
            "Epoch 23/150\n",
            "31/31 [==============================] - 1s 18ms/step - loss: 0.8492 - accuracy: 0.6405 - val_loss: 0.8972 - val_accuracy: 0.6410\n",
            "Epoch 24/150\n",
            "31/31 [==============================] - 0s 9ms/step - loss: 0.8821 - accuracy: 0.6340 - val_loss: 0.9108 - val_accuracy: 0.6154\n",
            "Epoch 25/150\n",
            "31/31 [==============================] - 0s 13ms/step - loss: 0.9965 - accuracy: 0.6078 - val_loss: 0.8549 - val_accuracy: 0.6154\n",
            "Epoch 26/150\n",
            "31/31 [==============================] - 0s 16ms/step - loss: 0.8013 - accuracy: 0.6797 - val_loss: 0.8150 - val_accuracy: 0.6410\n",
            "Epoch 27/150\n",
            "31/31 [==============================] - 0s 10ms/step - loss: 0.7618 - accuracy: 0.7255 - val_loss: 0.8793 - val_accuracy: 0.5897\n",
            "Epoch 28/150\n",
            "31/31 [==============================] - 0s 14ms/step - loss: 0.7355 - accuracy: 0.7255 - val_loss: 0.8276 - val_accuracy: 0.6154\n",
            "Epoch 29/150\n",
            "31/31 [==============================] - 0s 12ms/step - loss: 0.7239 - accuracy: 0.6863 - val_loss: 0.7578 - val_accuracy: 0.6667\n",
            "Epoch 30/150\n",
            "31/31 [==============================] - 0s 9ms/step - loss: 0.6670 - accuracy: 0.7190 - val_loss: 0.6904 - val_accuracy: 0.7436\n",
            "Epoch 31/150\n",
            "31/31 [==============================] - 0s 6ms/step - loss: 0.6303 - accuracy: 0.7647 - val_loss: 0.8503 - val_accuracy: 0.6154\n",
            "Epoch 32/150\n",
            "31/31 [==============================] - 0s 6ms/step - loss: 0.6011 - accuracy: 0.7712 - val_loss: 0.6040 - val_accuracy: 0.7949\n",
            "Epoch 33/150\n",
            "31/31 [==============================] - 0s 8ms/step - loss: 0.5807 - accuracy: 0.7516 - val_loss: 0.5732 - val_accuracy: 0.7692\n",
            "Epoch 34/150\n",
            "31/31 [==============================] - 0s 9ms/step - loss: 0.6321 - accuracy: 0.7843 - val_loss: 0.6195 - val_accuracy: 0.7692\n",
            "Epoch 35/150\n",
            "31/31 [==============================] - 0s 6ms/step - loss: 0.5515 - accuracy: 0.7712 - val_loss: 0.6353 - val_accuracy: 0.6923\n",
            "Epoch 36/150\n",
            "31/31 [==============================] - 0s 7ms/step - loss: 0.5398 - accuracy: 0.7778 - val_loss: 0.5573 - val_accuracy: 0.7692\n",
            "Epoch 37/150\n",
            "31/31 [==============================] - 0s 6ms/step - loss: 0.5635 - accuracy: 0.7647 - val_loss: 0.6078 - val_accuracy: 0.7436\n",
            "Epoch 38/150\n",
            "31/31 [==============================] - 0s 8ms/step - loss: 0.6735 - accuracy: 0.7386 - val_loss: 0.8117 - val_accuracy: 0.6667\n",
            "Epoch 39/150\n",
            "31/31 [==============================] - 0s 11ms/step - loss: 0.6027 - accuracy: 0.7712 - val_loss: 0.6658 - val_accuracy: 0.7179\n",
            "Epoch 40/150\n",
            "31/31 [==============================] - 0s 10ms/step - loss: 0.5869 - accuracy: 0.7843 - val_loss: 0.6445 - val_accuracy: 0.6410\n",
            "Epoch 41/150\n",
            "31/31 [==============================] - 0s 8ms/step - loss: 0.5272 - accuracy: 0.7647 - val_loss: 0.5185 - val_accuracy: 0.8205\n",
            "Epoch 42/150\n",
            "31/31 [==============================] - 1s 16ms/step - loss: 0.4614 - accuracy: 0.8562 - val_loss: 0.4761 - val_accuracy: 0.8462\n",
            "Epoch 43/150\n",
            "31/31 [==============================] - 1s 16ms/step - loss: 0.5164 - accuracy: 0.7908 - val_loss: 0.4953 - val_accuracy: 0.8462\n",
            "Epoch 44/150\n",
            "31/31 [==============================] - 0s 13ms/step - loss: 0.4468 - accuracy: 0.7974 - val_loss: 0.6111 - val_accuracy: 0.7436\n",
            "Epoch 45/150\n",
            "31/31 [==============================] - 0s 6ms/step - loss: 0.4495 - accuracy: 0.8301 - val_loss: 0.4422 - val_accuracy: 0.8205\n",
            "Epoch 46/150\n",
            "31/31 [==============================] - 0s 10ms/step - loss: 0.4587 - accuracy: 0.8105 - val_loss: 0.4785 - val_accuracy: 0.8462\n",
            "Epoch 47/150\n",
            "31/31 [==============================] - 0s 8ms/step - loss: 0.4582 - accuracy: 0.8039 - val_loss: 0.6849 - val_accuracy: 0.6154\n",
            "Epoch 48/150\n",
            "31/31 [==============================] - 0s 6ms/step - loss: 0.4744 - accuracy: 0.8235 - val_loss: 0.4891 - val_accuracy: 0.8205\n",
            "Epoch 49/150\n",
            "31/31 [==============================] - 0s 8ms/step - loss: 0.4291 - accuracy: 0.8301 - val_loss: 0.7468 - val_accuracy: 0.6667\n",
            "Epoch 50/150\n",
            "31/31 [==============================] - 0s 12ms/step - loss: 0.5232 - accuracy: 0.7843 - val_loss: 0.6308 - val_accuracy: 0.6923\n",
            "Epoch 51/150\n",
            "31/31 [==============================] - 0s 6ms/step - loss: 0.4953 - accuracy: 0.7908 - val_loss: 0.4813 - val_accuracy: 0.8718\n",
            "Epoch 52/150\n",
            "31/31 [==============================] - 0s 3ms/step - loss: 0.5158 - accuracy: 0.7908 - val_loss: 0.5138 - val_accuracy: 0.7436\n",
            "Epoch 53/150\n",
            "31/31 [==============================] - 0s 3ms/step - loss: 0.3992 - accuracy: 0.8497 - val_loss: 0.4136 - val_accuracy: 0.8462\n",
            "Epoch 54/150\n",
            "31/31 [==============================] - 0s 4ms/step - loss: 0.3846 - accuracy: 0.8562 - val_loss: 0.5336 - val_accuracy: 0.7949\n",
            "Epoch 55/150\n",
            "31/31 [==============================] - 0s 4ms/step - loss: 0.4487 - accuracy: 0.8039 - val_loss: 0.3878 - val_accuracy: 0.8718\n",
            "Epoch 56/150\n",
            "31/31 [==============================] - 0s 3ms/step - loss: 0.3709 - accuracy: 0.8562 - val_loss: 0.4330 - val_accuracy: 0.8462\n",
            "Epoch 57/150\n",
            "31/31 [==============================] - 0s 4ms/step - loss: 0.4241 - accuracy: 0.8562 - val_loss: 0.6310 - val_accuracy: 0.6923\n",
            "Epoch 58/150\n",
            "31/31 [==============================] - 0s 3ms/step - loss: 0.3962 - accuracy: 0.8627 - val_loss: 0.4164 - val_accuracy: 0.8718\n",
            "Epoch 59/150\n",
            "31/31 [==============================] - 0s 3ms/step - loss: 0.3692 - accuracy: 0.8627 - val_loss: 0.4235 - val_accuracy: 0.8205\n",
            "Epoch 60/150\n",
            "31/31 [==============================] - 0s 4ms/step - loss: 0.3503 - accuracy: 0.8693 - val_loss: 0.3353 - val_accuracy: 0.8718\n",
            "Epoch 61/150\n",
            "31/31 [==============================] - 0s 5ms/step - loss: 0.3785 - accuracy: 0.8431 - val_loss: 0.3580 - val_accuracy: 0.8462\n",
            "Epoch 62/150\n",
            "31/31 [==============================] - 0s 5ms/step - loss: 0.3479 - accuracy: 0.8627 - val_loss: 0.4602 - val_accuracy: 0.7692\n",
            "Epoch 63/150\n",
            "31/31 [==============================] - 0s 5ms/step - loss: 0.3459 - accuracy: 0.8627 - val_loss: 0.4638 - val_accuracy: 0.7436\n",
            "Epoch 64/150\n",
            "31/31 [==============================] - 0s 5ms/step - loss: 0.4145 - accuracy: 0.8562 - val_loss: 0.3844 - val_accuracy: 0.8718\n",
            "Epoch 65/150\n",
            "31/31 [==============================] - 0s 5ms/step - loss: 0.3898 - accuracy: 0.8758 - val_loss: 0.3711 - val_accuracy: 0.8718\n",
            "Epoch 66/150\n",
            "31/31 [==============================] - 0s 5ms/step - loss: 0.3338 - accuracy: 0.8627 - val_loss: 0.3989 - val_accuracy: 0.8718\n",
            "Epoch 67/150\n",
            "31/31 [==============================] - 0s 5ms/step - loss: 0.4268 - accuracy: 0.8431 - val_loss: 0.3938 - val_accuracy: 0.8462\n",
            "Epoch 68/150\n",
            "31/31 [==============================] - 0s 6ms/step - loss: 0.3351 - accuracy: 0.8758 - val_loss: 0.3616 - val_accuracy: 0.8974\n",
            "Epoch 69/150\n",
            "31/31 [==============================] - 0s 5ms/step - loss: 0.3062 - accuracy: 0.8954 - val_loss: 0.3671 - val_accuracy: 0.8718\n",
            "Epoch 70/150\n",
            "31/31 [==============================] - 0s 7ms/step - loss: 0.3246 - accuracy: 0.8693 - val_loss: 0.3638 - val_accuracy: 0.8718\n",
            "Epoch 71/150\n",
            "31/31 [==============================] - 0s 8ms/step - loss: 0.2939 - accuracy: 0.8824 - val_loss: 0.4627 - val_accuracy: 0.7436\n",
            "Epoch 72/150\n",
            "31/31 [==============================] - 0s 7ms/step - loss: 0.2882 - accuracy: 0.8758 - val_loss: 0.3557 - val_accuracy: 0.8974\n",
            "Epoch 73/150\n",
            "31/31 [==============================] - 0s 5ms/step - loss: 0.2964 - accuracy: 0.8758 - val_loss: 0.3975 - val_accuracy: 0.8462\n",
            "Epoch 74/150\n",
            "31/31 [==============================] - 0s 5ms/step - loss: 0.3006 - accuracy: 0.8889 - val_loss: 0.4657 - val_accuracy: 0.8462\n",
            "Epoch 75/150\n",
            "31/31 [==============================] - 0s 5ms/step - loss: 0.3122 - accuracy: 0.8693 - val_loss: 0.3027 - val_accuracy: 0.8974\n",
            "Epoch 76/150\n",
            "31/31 [==============================] - 0s 5ms/step - loss: 0.2848 - accuracy: 0.8889 - val_loss: 0.2989 - val_accuracy: 0.8718\n",
            "Epoch 77/150\n",
            "31/31 [==============================] - 0s 5ms/step - loss: 0.2926 - accuracy: 0.8824 - val_loss: 0.3035 - val_accuracy: 0.8718\n",
            "Epoch 78/150\n",
            "31/31 [==============================] - 0s 5ms/step - loss: 0.3222 - accuracy: 0.8693 - val_loss: 0.5945 - val_accuracy: 0.7949\n",
            "Epoch 79/150\n",
            "31/31 [==============================] - 0s 7ms/step - loss: 0.3494 - accuracy: 0.8431 - val_loss: 0.3124 - val_accuracy: 0.8974\n",
            "Epoch 80/150\n",
            "31/31 [==============================] - 0s 6ms/step - loss: 0.2895 - accuracy: 0.8758 - val_loss: 0.3090 - val_accuracy: 0.8974\n",
            "Epoch 81/150\n",
            "31/31 [==============================] - 0s 6ms/step - loss: 0.3071 - accuracy: 0.8824 - val_loss: 0.3933 - val_accuracy: 0.8718\n",
            "Epoch 82/150\n",
            "31/31 [==============================] - 0s 6ms/step - loss: 0.3206 - accuracy: 0.8889 - val_loss: 0.2804 - val_accuracy: 0.8462\n",
            "Epoch 83/150\n",
            "31/31 [==============================] - 0s 8ms/step - loss: 0.2679 - accuracy: 0.8824 - val_loss: 0.2810 - val_accuracy: 0.9231\n",
            "Epoch 84/150\n",
            "31/31 [==============================] - 0s 5ms/step - loss: 0.2579 - accuracy: 0.9216 - val_loss: 0.3131 - val_accuracy: 0.8718\n",
            "Epoch 85/150\n",
            "31/31 [==============================] - 0s 4ms/step - loss: 0.2673 - accuracy: 0.8758 - val_loss: 0.5188 - val_accuracy: 0.7692\n",
            "Epoch 86/150\n",
            "31/31 [==============================] - 0s 5ms/step - loss: 0.2503 - accuracy: 0.8954 - val_loss: 0.3150 - val_accuracy: 0.8974\n",
            "Epoch 87/150\n",
            "31/31 [==============================] - 0s 6ms/step - loss: 0.2181 - accuracy: 0.9281 - val_loss: 0.2721 - val_accuracy: 0.8974\n",
            "Epoch 88/150\n",
            "31/31 [==============================] - 0s 4ms/step - loss: 0.2608 - accuracy: 0.9085 - val_loss: 0.3642 - val_accuracy: 0.8718\n",
            "Epoch 89/150\n",
            "31/31 [==============================] - 0s 4ms/step - loss: 0.2782 - accuracy: 0.8889 - val_loss: 0.3188 - val_accuracy: 0.8974\n",
            "Epoch 90/150\n",
            "31/31 [==============================] - 0s 4ms/step - loss: 0.2246 - accuracy: 0.9281 - val_loss: 0.2915 - val_accuracy: 0.8462\n",
            "Epoch 91/150\n",
            "31/31 [==============================] - 0s 4ms/step - loss: 0.2237 - accuracy: 0.9281 - val_loss: 0.4561 - val_accuracy: 0.7949\n",
            "Epoch 92/150\n",
            "31/31 [==============================] - 0s 4ms/step - loss: 0.1905 - accuracy: 0.9477 - val_loss: 0.2074 - val_accuracy: 0.9231\n",
            "Epoch 93/150\n",
            "31/31 [==============================] - 0s 4ms/step - loss: 0.1965 - accuracy: 0.9608 - val_loss: 0.2301 - val_accuracy: 0.9231\n",
            "Epoch 94/150\n",
            "31/31 [==============================] - 0s 4ms/step - loss: 0.1988 - accuracy: 0.9346 - val_loss: 0.2184 - val_accuracy: 0.8718\n",
            "Epoch 95/150\n",
            "31/31 [==============================] - 0s 4ms/step - loss: 0.1850 - accuracy: 0.9477 - val_loss: 0.2201 - val_accuracy: 0.9231\n",
            "Epoch 96/150\n",
            "31/31 [==============================] - 0s 4ms/step - loss: 0.1665 - accuracy: 0.9542 - val_loss: 0.2771 - val_accuracy: 0.8974\n",
            "Epoch 97/150\n",
            "31/31 [==============================] - 0s 4ms/step - loss: 0.2194 - accuracy: 0.8954 - val_loss: 0.2679 - val_accuracy: 0.8974\n",
            "Epoch 98/150\n",
            "31/31 [==============================] - 0s 4ms/step - loss: 0.2396 - accuracy: 0.9085 - val_loss: 0.3035 - val_accuracy: 0.8718\n",
            "Epoch 99/150\n",
            "31/31 [==============================] - 0s 4ms/step - loss: 0.2412 - accuracy: 0.9216 - val_loss: 0.2417 - val_accuracy: 0.9231\n",
            "Epoch 100/150\n",
            "31/31 [==============================] - 0s 4ms/step - loss: 0.1776 - accuracy: 0.9412 - val_loss: 0.2538 - val_accuracy: 0.8718\n",
            "Epoch 101/150\n",
            "31/31 [==============================] - 0s 4ms/step - loss: 0.1844 - accuracy: 0.9412 - val_loss: 0.2943 - val_accuracy: 0.8718\n",
            "Epoch 102/150\n",
            "31/31 [==============================] - 0s 4ms/step - loss: 0.1967 - accuracy: 0.9216 - val_loss: 0.2027 - val_accuracy: 0.9231\n",
            "Epoch 103/150\n",
            "31/31 [==============================] - 0s 4ms/step - loss: 0.2138 - accuracy: 0.9216 - val_loss: 0.2151 - val_accuracy: 0.9487\n",
            "Epoch 104/150\n",
            "31/31 [==============================] - 0s 4ms/step - loss: 0.1469 - accuracy: 0.9608 - val_loss: 0.1708 - val_accuracy: 0.9487\n",
            "Epoch 105/150\n",
            "31/31 [==============================] - 0s 5ms/step - loss: 0.1631 - accuracy: 0.9281 - val_loss: 0.2680 - val_accuracy: 0.9231\n",
            "Epoch 106/150\n",
            "31/31 [==============================] - 0s 4ms/step - loss: 0.2104 - accuracy: 0.9281 - val_loss: 0.3383 - val_accuracy: 0.8974\n",
            "Epoch 107/150\n",
            "31/31 [==============================] - 0s 4ms/step - loss: 0.2897 - accuracy: 0.8627 - val_loss: 0.5268 - val_accuracy: 0.7179\n",
            "Epoch 108/150\n",
            "31/31 [==============================] - 0s 4ms/step - loss: 0.2784 - accuracy: 0.8954 - val_loss: 0.2832 - val_accuracy: 0.9487\n",
            "Epoch 109/150\n",
            "31/31 [==============================] - 0s 4ms/step - loss: 0.1443 - accuracy: 0.9542 - val_loss: 0.1807 - val_accuracy: 0.9231\n",
            "Epoch 110/150\n",
            "31/31 [==============================] - 0s 5ms/step - loss: 0.1650 - accuracy: 0.9542 - val_loss: 0.2369 - val_accuracy: 0.9231\n",
            "Epoch 111/150\n",
            "31/31 [==============================] - 0s 4ms/step - loss: 0.1641 - accuracy: 0.9412 - val_loss: 0.1785 - val_accuracy: 0.9487\n",
            "Epoch 112/150\n",
            "31/31 [==============================] - 0s 4ms/step - loss: 0.1359 - accuracy: 0.9673 - val_loss: 0.1984 - val_accuracy: 0.9487\n",
            "Epoch 113/150\n",
            "31/31 [==============================] - 0s 3ms/step - loss: 0.1878 - accuracy: 0.9150 - val_loss: 0.1931 - val_accuracy: 0.9487\n",
            "Epoch 114/150\n",
            "31/31 [==============================] - 0s 4ms/step - loss: 0.1389 - accuracy: 0.9608 - val_loss: 0.1565 - val_accuracy: 0.9231\n",
            "Epoch 115/150\n",
            "31/31 [==============================] - 0s 3ms/step - loss: 0.2490 - accuracy: 0.9020 - val_loss: 0.3810 - val_accuracy: 0.8205\n",
            "Epoch 116/150\n",
            "31/31 [==============================] - 0s 3ms/step - loss: 0.1469 - accuracy: 0.9542 - val_loss: 0.3387 - val_accuracy: 0.8205\n",
            "Epoch 117/150\n",
            "31/31 [==============================] - 0s 4ms/step - loss: 0.1219 - accuracy: 0.9673 - val_loss: 0.2114 - val_accuracy: 0.9231\n",
            "Epoch 118/150\n",
            "31/31 [==============================] - 0s 4ms/step - loss: 0.1250 - accuracy: 0.9542 - val_loss: 0.1530 - val_accuracy: 0.9744\n",
            "Epoch 119/150\n",
            "31/31 [==============================] - 0s 3ms/step - loss: 0.0960 - accuracy: 0.9739 - val_loss: 0.1580 - val_accuracy: 0.9487\n",
            "Epoch 120/150\n",
            "31/31 [==============================] - 0s 3ms/step - loss: 0.1075 - accuracy: 0.9608 - val_loss: 0.1655 - val_accuracy: 0.9744\n",
            "Epoch 121/150\n",
            "31/31 [==============================] - 0s 3ms/step - loss: 0.1589 - accuracy: 0.9412 - val_loss: 0.2085 - val_accuracy: 0.8718\n",
            "Epoch 122/150\n",
            "31/31 [==============================] - 0s 3ms/step - loss: 0.1536 - accuracy: 0.9608 - val_loss: 0.1649 - val_accuracy: 0.9231\n",
            "Epoch 123/150\n",
            "31/31 [==============================] - 0s 4ms/step - loss: 0.1315 - accuracy: 0.9477 - val_loss: 0.1233 - val_accuracy: 0.9744\n",
            "Epoch 124/150\n",
            "31/31 [==============================] - 0s 4ms/step - loss: 0.1576 - accuracy: 0.9346 - val_loss: 0.1876 - val_accuracy: 0.9231\n",
            "Epoch 125/150\n",
            "31/31 [==============================] - 0s 4ms/step - loss: 0.1167 - accuracy: 0.9673 - val_loss: 0.1641 - val_accuracy: 0.9487\n",
            "Epoch 126/150\n",
            "31/31 [==============================] - 0s 4ms/step - loss: 0.1255 - accuracy: 0.9608 - val_loss: 0.1086 - val_accuracy: 0.9744\n",
            "Epoch 127/150\n",
            "31/31 [==============================] - 0s 3ms/step - loss: 0.1002 - accuracy: 0.9608 - val_loss: 0.1466 - val_accuracy: 0.9744\n",
            "Epoch 128/150\n",
            "31/31 [==============================] - 0s 3ms/step - loss: 0.1719 - accuracy: 0.9477 - val_loss: 0.1449 - val_accuracy: 0.9487\n",
            "Epoch 129/150\n",
            "31/31 [==============================] - 0s 4ms/step - loss: 0.0955 - accuracy: 0.9804 - val_loss: 0.1382 - val_accuracy: 0.9487\n",
            "Epoch 130/150\n",
            "31/31 [==============================] - 0s 4ms/step - loss: 0.1325 - accuracy: 0.9477 - val_loss: 0.1327 - val_accuracy: 0.9487\n",
            "Epoch 131/150\n",
            "31/31 [==============================] - 0s 3ms/step - loss: 0.1084 - accuracy: 0.9673 - val_loss: 0.2383 - val_accuracy: 0.9231\n",
            "Epoch 132/150\n",
            "31/31 [==============================] - 0s 4ms/step - loss: 0.1964 - accuracy: 0.9281 - val_loss: 0.3509 - val_accuracy: 0.8718\n",
            "Epoch 133/150\n",
            "31/31 [==============================] - 0s 4ms/step - loss: 0.1880 - accuracy: 0.9281 - val_loss: 0.2943 - val_accuracy: 0.8974\n",
            "Epoch 134/150\n",
            "31/31 [==============================] - 0s 4ms/step - loss: 0.1556 - accuracy: 0.9281 - val_loss: 0.1246 - val_accuracy: 0.9744\n",
            "Epoch 135/150\n",
            "31/31 [==============================] - 0s 4ms/step - loss: 0.0734 - accuracy: 0.9739 - val_loss: 0.1342 - val_accuracy: 0.9744\n",
            "Epoch 136/150\n",
            "31/31 [==============================] - 0s 4ms/step - loss: 0.1483 - accuracy: 0.9412 - val_loss: 0.1759 - val_accuracy: 0.8974\n",
            "Epoch 137/150\n",
            "31/31 [==============================] - 0s 4ms/step - loss: 0.2991 - accuracy: 0.8889 - val_loss: 0.3385 - val_accuracy: 0.7949\n",
            "Epoch 138/150\n",
            "31/31 [==============================] - 0s 4ms/step - loss: 0.1913 - accuracy: 0.9412 - val_loss: 0.2113 - val_accuracy: 0.9231\n",
            "Epoch 139/150\n",
            "31/31 [==============================] - 0s 4ms/step - loss: 0.1529 - accuracy: 0.9477 - val_loss: 0.2589 - val_accuracy: 0.9231\n",
            "Epoch 140/150\n",
            "31/31 [==============================] - 0s 4ms/step - loss: 0.1421 - accuracy: 0.9673 - val_loss: 0.1134 - val_accuracy: 0.9744\n",
            "Epoch 141/150\n",
            "31/31 [==============================] - 0s 3ms/step - loss: 0.0896 - accuracy: 0.9739 - val_loss: 0.1289 - val_accuracy: 0.9487\n",
            "Epoch 142/150\n",
            "31/31 [==============================] - 0s 4ms/step - loss: 0.0837 - accuracy: 0.9804 - val_loss: 0.1440 - val_accuracy: 0.9487\n",
            "Epoch 143/150\n",
            "31/31 [==============================] - 0s 4ms/step - loss: 0.1433 - accuracy: 0.9346 - val_loss: 0.0952 - val_accuracy: 0.9744\n",
            "Epoch 144/150\n",
            "31/31 [==============================] - 0s 3ms/step - loss: 0.0852 - accuracy: 0.9739 - val_loss: 0.0767 - val_accuracy: 1.0000\n",
            "Epoch 145/150\n",
            "31/31 [==============================] - 0s 3ms/step - loss: 0.0915 - accuracy: 0.9739 - val_loss: 0.0870 - val_accuracy: 1.0000\n",
            "Epoch 146/150\n",
            "31/31 [==============================] - 0s 4ms/step - loss: 0.0825 - accuracy: 0.9804 - val_loss: 0.1748 - val_accuracy: 0.9487\n",
            "Epoch 147/150\n",
            "31/31 [==============================] - 0s 4ms/step - loss: 0.1258 - accuracy: 0.9542 - val_loss: 0.2000 - val_accuracy: 0.9231\n",
            "Epoch 148/150\n",
            "31/31 [==============================] - 0s 4ms/step - loss: 0.2604 - accuracy: 0.8693 - val_loss: 0.1498 - val_accuracy: 0.9744\n",
            "Epoch 149/150\n",
            "31/31 [==============================] - 0s 4ms/step - loss: 0.1007 - accuracy: 0.9673 - val_loss: 0.1310 - val_accuracy: 0.9744\n",
            "Epoch 150/150\n",
            "31/31 [==============================] - 0s 4ms/step - loss: 0.0926 - accuracy: 0.9673 - val_loss: 0.0971 - val_accuracy: 0.9744\n"
          ]
        },
        {
          "output_type": "execute_result",
          "data": {
            "text/plain": [
              "<keras.callbacks.History at 0x7f8a6c54a470>"
            ]
          },
          "metadata": {},
          "execution_count": 33
        }
      ]
    },
    {
      "cell_type": "code",
      "source": [
        "y_pred = model.predict(x_test)"
      ],
      "metadata": {
        "colab": {
          "base_uri": "https://localhost:8080/"
        },
        "id": "QLV_XwvxqXFG",
        "outputId": "2b2881fd-edf4-4acd-a7d0-4bec93081813"
      },
      "execution_count": 34,
      "outputs": [
        {
          "output_type": "stream",
          "name": "stdout",
          "text": [
            "2/2 [==============================] - 0s 7ms/step\n"
          ]
        }
      ]
    },
    {
      "cell_type": "code",
      "source": [
        "drug_cols = y_train.columns\n",
        "drug_cols"
      ],
      "metadata": {
        "colab": {
          "base_uri": "https://localhost:8080/"
        },
        "id": "EigtpuDxuTSM",
        "outputId": "f0669283-43a6-42af-c367-4b9008a37be4"
      },
      "execution_count": 35,
      "outputs": [
        {
          "output_type": "execute_result",
          "data": {
            "text/plain": [
              "Index(['DrugY', 'drugA', 'drugB', 'drugC', 'drugX'], dtype='object')"
            ]
          },
          "metadata": {},
          "execution_count": 35
        }
      ]
    },
    {
      "cell_type": "code",
      "source": [
        "y_pred.shape"
      ],
      "metadata": {
        "colab": {
          "base_uri": "https://localhost:8080/"
        },
        "id": "r-x-z0xUueot",
        "outputId": "34d2ae3f-9084-4fd1-db75-a3777b08dcdc"
      },
      "execution_count": 36,
      "outputs": [
        {
          "output_type": "execute_result",
          "data": {
            "text/plain": [
              "(39, 5)"
            ]
          },
          "metadata": {},
          "execution_count": 36
        }
      ]
    },
    {
      "cell_type": "code",
      "source": [
        "def convert_output(x):\n",
        "  m = x.shape[0]\n",
        "  for i in range(m):\n",
        "    z = np.zeros(5)\n",
        "    ind = np.argmax(x[i])\n",
        "    z[ind] = 1\n",
        "    x[i] = z\n",
        "  return x.astype(int)"
      ],
      "metadata": {
        "id": "jgxh6Ta7tmEK"
      },
      "execution_count": 37,
      "outputs": []
    },
    {
      "cell_type": "code",
      "source": [
        "pred_out = pd.DataFrame(convert_output(y_pred), columns=drug_cols)"
      ],
      "metadata": {
        "id": "KqmPq-8ut12t"
      },
      "execution_count": 38,
      "outputs": []
    },
    {
      "cell_type": "code",
      "source": [
        "y_test.reset_index(drop=True, inplace=True)\n",
        "y_test"
      ],
      "metadata": {
        "colab": {
          "base_uri": "https://localhost:8080/",
          "height": 1000
        },
        "id": "yD6qHtAuwUP4",
        "outputId": "c2fbbf97-6318-4d5b-ba22-59069b24e063"
      },
      "execution_count": 39,
      "outputs": [
        {
          "output_type": "execute_result",
          "data": {
            "text/plain": [
              "    DrugY  drugA  drugB  drugC  drugX\n",
              "0       0      1      0      0      0\n",
              "1       1      0      0      0      0\n",
              "2       1      0      0      0      0\n",
              "3       0      0      0      0      1\n",
              "4       0      0      0      0      1\n",
              "5       0      0      0      0      1\n",
              "6       1      0      0      0      0\n",
              "7       0      0      0      1      0\n",
              "8       0      0      0      0      1\n",
              "9       1      0      0      0      0\n",
              "10      0      0      0      0      1\n",
              "11      1      0      0      0      0\n",
              "12      0      0      0      0      1\n",
              "13      0      1      0      0      0\n",
              "14      0      0      0      1      0\n",
              "15      0      0      1      0      0\n",
              "16      0      1      0      0      0\n",
              "17      0      0      1      0      0\n",
              "18      0      0      0      0      1\n",
              "19      1      0      0      0      0\n",
              "20      0      1      0      0      0\n",
              "21      0      0      0      0      1\n",
              "22      1      0      0      0      0\n",
              "23      0      1      0      0      0\n",
              "24      1      0      0      0      0\n",
              "25      0      1      0      0      0\n",
              "26      1      0      0      0      0\n",
              "27      1      0      0      0      0\n",
              "28      0      1      0      0      0\n",
              "29      0      0      0      0      1\n",
              "30      0      0      0      0      1\n",
              "31      0      0      0      0      1\n",
              "32      1      0      0      0      0\n",
              "33      1      0      0      0      0\n",
              "34      1      0      0      0      0\n",
              "35      0      0      0      0      1\n",
              "36      0      0      1      0      0\n",
              "37      0      1      0      0      0\n",
              "38      0      0      0      0      1"
            ],
            "text/html": [
              "\n",
              "  <div id=\"df-416a1534-f290-4efc-a12b-87ca54f55f25\">\n",
              "    <div class=\"colab-df-container\">\n",
              "      <div>\n",
              "<style scoped>\n",
              "    .dataframe tbody tr th:only-of-type {\n",
              "        vertical-align: middle;\n",
              "    }\n",
              "\n",
              "    .dataframe tbody tr th {\n",
              "        vertical-align: top;\n",
              "    }\n",
              "\n",
              "    .dataframe thead th {\n",
              "        text-align: right;\n",
              "    }\n",
              "</style>\n",
              "<table border=\"1\" class=\"dataframe\">\n",
              "  <thead>\n",
              "    <tr style=\"text-align: right;\">\n",
              "      <th></th>\n",
              "      <th>DrugY</th>\n",
              "      <th>drugA</th>\n",
              "      <th>drugB</th>\n",
              "      <th>drugC</th>\n",
              "      <th>drugX</th>\n",
              "    </tr>\n",
              "  </thead>\n",
              "  <tbody>\n",
              "    <tr>\n",
              "      <th>0</th>\n",
              "      <td>0</td>\n",
              "      <td>1</td>\n",
              "      <td>0</td>\n",
              "      <td>0</td>\n",
              "      <td>0</td>\n",
              "    </tr>\n",
              "    <tr>\n",
              "      <th>1</th>\n",
              "      <td>1</td>\n",
              "      <td>0</td>\n",
              "      <td>0</td>\n",
              "      <td>0</td>\n",
              "      <td>0</td>\n",
              "    </tr>\n",
              "    <tr>\n",
              "      <th>2</th>\n",
              "      <td>1</td>\n",
              "      <td>0</td>\n",
              "      <td>0</td>\n",
              "      <td>0</td>\n",
              "      <td>0</td>\n",
              "    </tr>\n",
              "    <tr>\n",
              "      <th>3</th>\n",
              "      <td>0</td>\n",
              "      <td>0</td>\n",
              "      <td>0</td>\n",
              "      <td>0</td>\n",
              "      <td>1</td>\n",
              "    </tr>\n",
              "    <tr>\n",
              "      <th>4</th>\n",
              "      <td>0</td>\n",
              "      <td>0</td>\n",
              "      <td>0</td>\n",
              "      <td>0</td>\n",
              "      <td>1</td>\n",
              "    </tr>\n",
              "    <tr>\n",
              "      <th>5</th>\n",
              "      <td>0</td>\n",
              "      <td>0</td>\n",
              "      <td>0</td>\n",
              "      <td>0</td>\n",
              "      <td>1</td>\n",
              "    </tr>\n",
              "    <tr>\n",
              "      <th>6</th>\n",
              "      <td>1</td>\n",
              "      <td>0</td>\n",
              "      <td>0</td>\n",
              "      <td>0</td>\n",
              "      <td>0</td>\n",
              "    </tr>\n",
              "    <tr>\n",
              "      <th>7</th>\n",
              "      <td>0</td>\n",
              "      <td>0</td>\n",
              "      <td>0</td>\n",
              "      <td>1</td>\n",
              "      <td>0</td>\n",
              "    </tr>\n",
              "    <tr>\n",
              "      <th>8</th>\n",
              "      <td>0</td>\n",
              "      <td>0</td>\n",
              "      <td>0</td>\n",
              "      <td>0</td>\n",
              "      <td>1</td>\n",
              "    </tr>\n",
              "    <tr>\n",
              "      <th>9</th>\n",
              "      <td>1</td>\n",
              "      <td>0</td>\n",
              "      <td>0</td>\n",
              "      <td>0</td>\n",
              "      <td>0</td>\n",
              "    </tr>\n",
              "    <tr>\n",
              "      <th>10</th>\n",
              "      <td>0</td>\n",
              "      <td>0</td>\n",
              "      <td>0</td>\n",
              "      <td>0</td>\n",
              "      <td>1</td>\n",
              "    </tr>\n",
              "    <tr>\n",
              "      <th>11</th>\n",
              "      <td>1</td>\n",
              "      <td>0</td>\n",
              "      <td>0</td>\n",
              "      <td>0</td>\n",
              "      <td>0</td>\n",
              "    </tr>\n",
              "    <tr>\n",
              "      <th>12</th>\n",
              "      <td>0</td>\n",
              "      <td>0</td>\n",
              "      <td>0</td>\n",
              "      <td>0</td>\n",
              "      <td>1</td>\n",
              "    </tr>\n",
              "    <tr>\n",
              "      <th>13</th>\n",
              "      <td>0</td>\n",
              "      <td>1</td>\n",
              "      <td>0</td>\n",
              "      <td>0</td>\n",
              "      <td>0</td>\n",
              "    </tr>\n",
              "    <tr>\n",
              "      <th>14</th>\n",
              "      <td>0</td>\n",
              "      <td>0</td>\n",
              "      <td>0</td>\n",
              "      <td>1</td>\n",
              "      <td>0</td>\n",
              "    </tr>\n",
              "    <tr>\n",
              "      <th>15</th>\n",
              "      <td>0</td>\n",
              "      <td>0</td>\n",
              "      <td>1</td>\n",
              "      <td>0</td>\n",
              "      <td>0</td>\n",
              "    </tr>\n",
              "    <tr>\n",
              "      <th>16</th>\n",
              "      <td>0</td>\n",
              "      <td>1</td>\n",
              "      <td>0</td>\n",
              "      <td>0</td>\n",
              "      <td>0</td>\n",
              "    </tr>\n",
              "    <tr>\n",
              "      <th>17</th>\n",
              "      <td>0</td>\n",
              "      <td>0</td>\n",
              "      <td>1</td>\n",
              "      <td>0</td>\n",
              "      <td>0</td>\n",
              "    </tr>\n",
              "    <tr>\n",
              "      <th>18</th>\n",
              "      <td>0</td>\n",
              "      <td>0</td>\n",
              "      <td>0</td>\n",
              "      <td>0</td>\n",
              "      <td>1</td>\n",
              "    </tr>\n",
              "    <tr>\n",
              "      <th>19</th>\n",
              "      <td>1</td>\n",
              "      <td>0</td>\n",
              "      <td>0</td>\n",
              "      <td>0</td>\n",
              "      <td>0</td>\n",
              "    </tr>\n",
              "    <tr>\n",
              "      <th>20</th>\n",
              "      <td>0</td>\n",
              "      <td>1</td>\n",
              "      <td>0</td>\n",
              "      <td>0</td>\n",
              "      <td>0</td>\n",
              "    </tr>\n",
              "    <tr>\n",
              "      <th>21</th>\n",
              "      <td>0</td>\n",
              "      <td>0</td>\n",
              "      <td>0</td>\n",
              "      <td>0</td>\n",
              "      <td>1</td>\n",
              "    </tr>\n",
              "    <tr>\n",
              "      <th>22</th>\n",
              "      <td>1</td>\n",
              "      <td>0</td>\n",
              "      <td>0</td>\n",
              "      <td>0</td>\n",
              "      <td>0</td>\n",
              "    </tr>\n",
              "    <tr>\n",
              "      <th>23</th>\n",
              "      <td>0</td>\n",
              "      <td>1</td>\n",
              "      <td>0</td>\n",
              "      <td>0</td>\n",
              "      <td>0</td>\n",
              "    </tr>\n",
              "    <tr>\n",
              "      <th>24</th>\n",
              "      <td>1</td>\n",
              "      <td>0</td>\n",
              "      <td>0</td>\n",
              "      <td>0</td>\n",
              "      <td>0</td>\n",
              "    </tr>\n",
              "    <tr>\n",
              "      <th>25</th>\n",
              "      <td>0</td>\n",
              "      <td>1</td>\n",
              "      <td>0</td>\n",
              "      <td>0</td>\n",
              "      <td>0</td>\n",
              "    </tr>\n",
              "    <tr>\n",
              "      <th>26</th>\n",
              "      <td>1</td>\n",
              "      <td>0</td>\n",
              "      <td>0</td>\n",
              "      <td>0</td>\n",
              "      <td>0</td>\n",
              "    </tr>\n",
              "    <tr>\n",
              "      <th>27</th>\n",
              "      <td>1</td>\n",
              "      <td>0</td>\n",
              "      <td>0</td>\n",
              "      <td>0</td>\n",
              "      <td>0</td>\n",
              "    </tr>\n",
              "    <tr>\n",
              "      <th>28</th>\n",
              "      <td>0</td>\n",
              "      <td>1</td>\n",
              "      <td>0</td>\n",
              "      <td>0</td>\n",
              "      <td>0</td>\n",
              "    </tr>\n",
              "    <tr>\n",
              "      <th>29</th>\n",
              "      <td>0</td>\n",
              "      <td>0</td>\n",
              "      <td>0</td>\n",
              "      <td>0</td>\n",
              "      <td>1</td>\n",
              "    </tr>\n",
              "    <tr>\n",
              "      <th>30</th>\n",
              "      <td>0</td>\n",
              "      <td>0</td>\n",
              "      <td>0</td>\n",
              "      <td>0</td>\n",
              "      <td>1</td>\n",
              "    </tr>\n",
              "    <tr>\n",
              "      <th>31</th>\n",
              "      <td>0</td>\n",
              "      <td>0</td>\n",
              "      <td>0</td>\n",
              "      <td>0</td>\n",
              "      <td>1</td>\n",
              "    </tr>\n",
              "    <tr>\n",
              "      <th>32</th>\n",
              "      <td>1</td>\n",
              "      <td>0</td>\n",
              "      <td>0</td>\n",
              "      <td>0</td>\n",
              "      <td>0</td>\n",
              "    </tr>\n",
              "    <tr>\n",
              "      <th>33</th>\n",
              "      <td>1</td>\n",
              "      <td>0</td>\n",
              "      <td>0</td>\n",
              "      <td>0</td>\n",
              "      <td>0</td>\n",
              "    </tr>\n",
              "    <tr>\n",
              "      <th>34</th>\n",
              "      <td>1</td>\n",
              "      <td>0</td>\n",
              "      <td>0</td>\n",
              "      <td>0</td>\n",
              "      <td>0</td>\n",
              "    </tr>\n",
              "    <tr>\n",
              "      <th>35</th>\n",
              "      <td>0</td>\n",
              "      <td>0</td>\n",
              "      <td>0</td>\n",
              "      <td>0</td>\n",
              "      <td>1</td>\n",
              "    </tr>\n",
              "    <tr>\n",
              "      <th>36</th>\n",
              "      <td>0</td>\n",
              "      <td>0</td>\n",
              "      <td>1</td>\n",
              "      <td>0</td>\n",
              "      <td>0</td>\n",
              "    </tr>\n",
              "    <tr>\n",
              "      <th>37</th>\n",
              "      <td>0</td>\n",
              "      <td>1</td>\n",
              "      <td>0</td>\n",
              "      <td>0</td>\n",
              "      <td>0</td>\n",
              "    </tr>\n",
              "    <tr>\n",
              "      <th>38</th>\n",
              "      <td>0</td>\n",
              "      <td>0</td>\n",
              "      <td>0</td>\n",
              "      <td>0</td>\n",
              "      <td>1</td>\n",
              "    </tr>\n",
              "  </tbody>\n",
              "</table>\n",
              "</div>\n",
              "      <button class=\"colab-df-convert\" onclick=\"convertToInteractive('df-416a1534-f290-4efc-a12b-87ca54f55f25')\"\n",
              "              title=\"Convert this dataframe to an interactive table.\"\n",
              "              style=\"display:none;\">\n",
              "        \n",
              "  <svg xmlns=\"http://www.w3.org/2000/svg\" height=\"24px\"viewBox=\"0 0 24 24\"\n",
              "       width=\"24px\">\n",
              "    <path d=\"M0 0h24v24H0V0z\" fill=\"none\"/>\n",
              "    <path d=\"M18.56 5.44l.94 2.06.94-2.06 2.06-.94-2.06-.94-.94-2.06-.94 2.06-2.06.94zm-11 1L8.5 8.5l.94-2.06 2.06-.94-2.06-.94L8.5 2.5l-.94 2.06-2.06.94zm10 10l.94 2.06.94-2.06 2.06-.94-2.06-.94-.94-2.06-.94 2.06-2.06.94z\"/><path d=\"M17.41 7.96l-1.37-1.37c-.4-.4-.92-.59-1.43-.59-.52 0-1.04.2-1.43.59L10.3 9.45l-7.72 7.72c-.78.78-.78 2.05 0 2.83L4 21.41c.39.39.9.59 1.41.59.51 0 1.02-.2 1.41-.59l7.78-7.78 2.81-2.81c.8-.78.8-2.07 0-2.86zM5.41 20L4 18.59l7.72-7.72 1.47 1.35L5.41 20z\"/>\n",
              "  </svg>\n",
              "      </button>\n",
              "      \n",
              "  <style>\n",
              "    .colab-df-container {\n",
              "      display:flex;\n",
              "      flex-wrap:wrap;\n",
              "      gap: 12px;\n",
              "    }\n",
              "\n",
              "    .colab-df-convert {\n",
              "      background-color: #E8F0FE;\n",
              "      border: none;\n",
              "      border-radius: 50%;\n",
              "      cursor: pointer;\n",
              "      display: none;\n",
              "      fill: #1967D2;\n",
              "      height: 32px;\n",
              "      padding: 0 0 0 0;\n",
              "      width: 32px;\n",
              "    }\n",
              "\n",
              "    .colab-df-convert:hover {\n",
              "      background-color: #E2EBFA;\n",
              "      box-shadow: 0px 1px 2px rgba(60, 64, 67, 0.3), 0px 1px 3px 1px rgba(60, 64, 67, 0.15);\n",
              "      fill: #174EA6;\n",
              "    }\n",
              "\n",
              "    [theme=dark] .colab-df-convert {\n",
              "      background-color: #3B4455;\n",
              "      fill: #D2E3FC;\n",
              "    }\n",
              "\n",
              "    [theme=dark] .colab-df-convert:hover {\n",
              "      background-color: #434B5C;\n",
              "      box-shadow: 0px 1px 3px 1px rgba(0, 0, 0, 0.15);\n",
              "      filter: drop-shadow(0px 1px 2px rgba(0, 0, 0, 0.3));\n",
              "      fill: #FFFFFF;\n",
              "    }\n",
              "  </style>\n",
              "\n",
              "      <script>\n",
              "        const buttonEl =\n",
              "          document.querySelector('#df-416a1534-f290-4efc-a12b-87ca54f55f25 button.colab-df-convert');\n",
              "        buttonEl.style.display =\n",
              "          google.colab.kernel.accessAllowed ? 'block' : 'none';\n",
              "\n",
              "        async function convertToInteractive(key) {\n",
              "          const element = document.querySelector('#df-416a1534-f290-4efc-a12b-87ca54f55f25');\n",
              "          const dataTable =\n",
              "            await google.colab.kernel.invokeFunction('convertToInteractive',\n",
              "                                                     [key], {});\n",
              "          if (!dataTable) return;\n",
              "\n",
              "          const docLinkHtml = 'Like what you see? Visit the ' +\n",
              "            '<a target=\"_blank\" href=https://colab.research.google.com/notebooks/data_table.ipynb>data table notebook</a>'\n",
              "            + ' to learn more about interactive tables.';\n",
              "          element.innerHTML = '';\n",
              "          dataTable['output_type'] = 'display_data';\n",
              "          await google.colab.output.renderOutput(dataTable, element);\n",
              "          const docLink = document.createElement('div');\n",
              "          docLink.innerHTML = docLinkHtml;\n",
              "          element.appendChild(docLink);\n",
              "        }\n",
              "      </script>\n",
              "    </div>\n",
              "  </div>\n",
              "  "
            ]
          },
          "metadata": {},
          "execution_count": 39
        }
      ]
    },
    {
      "cell_type": "code",
      "source": [
        "pred_out.compare(y_test, keep_equal=True)"
      ],
      "metadata": {
        "colab": {
          "base_uri": "https://localhost:8080/",
          "height": 111
        },
        "id": "y8V457Lrw5db",
        "outputId": "6b567efb-2f0b-4587-8ef5-c6c12f5e6180"
      },
      "execution_count": 40,
      "outputs": [
        {
          "output_type": "execute_result",
          "data": {
            "text/plain": [
              "   drugA       drugB      \n",
              "    self other  self other\n",
              "20     0     1     1     0"
            ],
            "text/html": [
              "\n",
              "  <div id=\"df-c3a6d77a-8ba4-4bc4-be17-943d45aaa772\">\n",
              "    <div class=\"colab-df-container\">\n",
              "      <div>\n",
              "<style scoped>\n",
              "    .dataframe tbody tr th:only-of-type {\n",
              "        vertical-align: middle;\n",
              "    }\n",
              "\n",
              "    .dataframe tbody tr th {\n",
              "        vertical-align: top;\n",
              "    }\n",
              "\n",
              "    .dataframe thead tr th {\n",
              "        text-align: left;\n",
              "    }\n",
              "</style>\n",
              "<table border=\"1\" class=\"dataframe\">\n",
              "  <thead>\n",
              "    <tr>\n",
              "      <th></th>\n",
              "      <th colspan=\"2\" halign=\"left\">drugA</th>\n",
              "      <th colspan=\"2\" halign=\"left\">drugB</th>\n",
              "    </tr>\n",
              "    <tr>\n",
              "      <th></th>\n",
              "      <th>self</th>\n",
              "      <th>other</th>\n",
              "      <th>self</th>\n",
              "      <th>other</th>\n",
              "    </tr>\n",
              "  </thead>\n",
              "  <tbody>\n",
              "    <tr>\n",
              "      <th>20</th>\n",
              "      <td>0</td>\n",
              "      <td>1</td>\n",
              "      <td>1</td>\n",
              "      <td>0</td>\n",
              "    </tr>\n",
              "  </tbody>\n",
              "</table>\n",
              "</div>\n",
              "      <button class=\"colab-df-convert\" onclick=\"convertToInteractive('df-c3a6d77a-8ba4-4bc4-be17-943d45aaa772')\"\n",
              "              title=\"Convert this dataframe to an interactive table.\"\n",
              "              style=\"display:none;\">\n",
              "        \n",
              "  <svg xmlns=\"http://www.w3.org/2000/svg\" height=\"24px\"viewBox=\"0 0 24 24\"\n",
              "       width=\"24px\">\n",
              "    <path d=\"M0 0h24v24H0V0z\" fill=\"none\"/>\n",
              "    <path d=\"M18.56 5.44l.94 2.06.94-2.06 2.06-.94-2.06-.94-.94-2.06-.94 2.06-2.06.94zm-11 1L8.5 8.5l.94-2.06 2.06-.94-2.06-.94L8.5 2.5l-.94 2.06-2.06.94zm10 10l.94 2.06.94-2.06 2.06-.94-2.06-.94-.94-2.06-.94 2.06-2.06.94z\"/><path d=\"M17.41 7.96l-1.37-1.37c-.4-.4-.92-.59-1.43-.59-.52 0-1.04.2-1.43.59L10.3 9.45l-7.72 7.72c-.78.78-.78 2.05 0 2.83L4 21.41c.39.39.9.59 1.41.59.51 0 1.02-.2 1.41-.59l7.78-7.78 2.81-2.81c.8-.78.8-2.07 0-2.86zM5.41 20L4 18.59l7.72-7.72 1.47 1.35L5.41 20z\"/>\n",
              "  </svg>\n",
              "      </button>\n",
              "      \n",
              "  <style>\n",
              "    .colab-df-container {\n",
              "      display:flex;\n",
              "      flex-wrap:wrap;\n",
              "      gap: 12px;\n",
              "    }\n",
              "\n",
              "    .colab-df-convert {\n",
              "      background-color: #E8F0FE;\n",
              "      border: none;\n",
              "      border-radius: 50%;\n",
              "      cursor: pointer;\n",
              "      display: none;\n",
              "      fill: #1967D2;\n",
              "      height: 32px;\n",
              "      padding: 0 0 0 0;\n",
              "      width: 32px;\n",
              "    }\n",
              "\n",
              "    .colab-df-convert:hover {\n",
              "      background-color: #E2EBFA;\n",
              "      box-shadow: 0px 1px 2px rgba(60, 64, 67, 0.3), 0px 1px 3px 1px rgba(60, 64, 67, 0.15);\n",
              "      fill: #174EA6;\n",
              "    }\n",
              "\n",
              "    [theme=dark] .colab-df-convert {\n",
              "      background-color: #3B4455;\n",
              "      fill: #D2E3FC;\n",
              "    }\n",
              "\n",
              "    [theme=dark] .colab-df-convert:hover {\n",
              "      background-color: #434B5C;\n",
              "      box-shadow: 0px 1px 3px 1px rgba(0, 0, 0, 0.15);\n",
              "      filter: drop-shadow(0px 1px 2px rgba(0, 0, 0, 0.3));\n",
              "      fill: #FFFFFF;\n",
              "    }\n",
              "  </style>\n",
              "\n",
              "      <script>\n",
              "        const buttonEl =\n",
              "          document.querySelector('#df-c3a6d77a-8ba4-4bc4-be17-943d45aaa772 button.colab-df-convert');\n",
              "        buttonEl.style.display =\n",
              "          google.colab.kernel.accessAllowed ? 'block' : 'none';\n",
              "\n",
              "        async function convertToInteractive(key) {\n",
              "          const element = document.querySelector('#df-c3a6d77a-8ba4-4bc4-be17-943d45aaa772');\n",
              "          const dataTable =\n",
              "            await google.colab.kernel.invokeFunction('convertToInteractive',\n",
              "                                                     [key], {});\n",
              "          if (!dataTable) return;\n",
              "\n",
              "          const docLinkHtml = 'Like what you see? Visit the ' +\n",
              "            '<a target=\"_blank\" href=https://colab.research.google.com/notebooks/data_table.ipynb>data table notebook</a>'\n",
              "            + ' to learn more about interactive tables.';\n",
              "          element.innerHTML = '';\n",
              "          dataTable['output_type'] = 'display_data';\n",
              "          await google.colab.output.renderOutput(dataTable, element);\n",
              "          const docLink = document.createElement('div');\n",
              "          docLink.innerHTML = docLinkHtml;\n",
              "          element.appendChild(docLink);\n",
              "        }\n",
              "      </script>\n",
              "    </div>\n",
              "  </div>\n",
              "  "
            ]
          },
          "metadata": {},
          "execution_count": 40
        }
      ]
    }
  ]
}